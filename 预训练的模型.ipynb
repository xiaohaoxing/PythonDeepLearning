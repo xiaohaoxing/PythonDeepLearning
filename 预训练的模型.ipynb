{
 "cells": [
  {
   "cell_type": "markdown",
   "metadata": {},
   "source": [
    "# 使用预训练的 CNN"
   ]
  },
  {
   "cell_type": "markdown",
   "metadata": {},
   "source": [
    "分成 2 步：\n",
    "\n",
    " 1. 特征提取\n",
    " \n",
    " 2. 微调模型\n",
    "\n",
    "\n",
    "<img src='imgs/预训练模型对比.jpg' width='300' height='200' align='left'/>\n"
   ]
  },
  {
   "cell_type": "markdown",
   "metadata": {},
   "source": [
    "为什么仅复用卷积基而不用密集连接分类器？卷积基更具有通用性，而且密集连接分类器不包含了位置信息了（转换成了向量了已经）。"
   ]
  },
  {
   "cell_type": "code",
   "execution_count": 1,
   "metadata": {},
   "outputs": [
    {
     "name": "stderr",
     "output_type": "stream",
     "text": [
      "Using TensorFlow backend.\n"
     ]
    },
    {
     "name": "stdout",
     "output_type": "stream",
     "text": [
      "WARNING:tensorflow:From /usr/local/lib/python3.7/site-packages/keras/backend/tensorflow_backend.py:63: The name tf.get_default_graph is deprecated. Please use tf.compat.v1.get_default_graph instead.\n",
      "\n",
      "WARNING:tensorflow:From /usr/local/lib/python3.7/site-packages/keras/backend/tensorflow_backend.py:488: The name tf.placeholder is deprecated. Please use tf.compat.v1.placeholder instead.\n",
      "\n",
      "WARNING:tensorflow:From /usr/local/lib/python3.7/site-packages/keras/backend/tensorflow_backend.py:3626: The name tf.random_uniform is deprecated. Please use tf.random.uniform instead.\n",
      "\n",
      "WARNING:tensorflow:From /usr/local/lib/python3.7/site-packages/keras/backend/tensorflow_backend.py:3454: The name tf.nn.max_pool is deprecated. Please use tf.nn.max_pool2d instead.\n",
      "\n",
      "Downloading data from https://github.com/fchollet/deep-learning-models/releases/download/v0.1/vgg16_weights_tf_dim_ordering_tf_kernels_notop.h5\n",
      "58892288/58889256 [==============================] - 317s 5us/step\n",
      "WARNING:tensorflow:From /usr/local/lib/python3.7/site-packages/keras/backend/tensorflow_backend.py:158: The name tf.get_default_session is deprecated. Please use tf.compat.v1.get_default_session instead.\n",
      "\n",
      "WARNING:tensorflow:From /usr/local/lib/python3.7/site-packages/keras/backend/tensorflow_backend.py:163: The name tf.ConfigProto is deprecated. Please use tf.compat.v1.ConfigProto instead.\n",
      "\n",
      "WARNING:tensorflow:From /usr/local/lib/python3.7/site-packages/keras/backend/tensorflow_backend.py:168: The name tf.Session is deprecated. Please use tf.compat.v1.Session instead.\n",
      "\n",
      "WARNING:tensorflow:From /usr/local/lib/python3.7/site-packages/keras/backend/tensorflow_backend.py:172: The name tf.global_variables is deprecated. Please use tf.compat.v1.global_variables instead.\n",
      "\n",
      "WARNING:tensorflow:From /usr/local/lib/python3.7/site-packages/keras/backend/tensorflow_backend.py:180: The name tf.is_variable_initialized is deprecated. Please use tf.compat.v1.is_variable_initialized instead.\n",
      "\n",
      "WARNING:tensorflow:From /usr/local/lib/python3.7/site-packages/keras/backend/tensorflow_backend.py:187: The name tf.variables_initializer is deprecated. Please use tf.compat.v1.variables_initializer instead.\n",
      "\n"
     ]
    }
   ],
   "source": [
    "from keras.applications import VGG16\n",
    "\n",
    "# weights: 模型初始化的权重检查点\n",
    "# include_top: 是否包含分类器，自带的有1000个类别，我们只有2个类别，不需要他的\n",
    "conv_base = VGG16(weights='imagenet',\n",
    "                 include_top=False,\n",
    "                 input_shape=(150, 150, 3))"
   ]
  },
  {
   "cell_type": "code",
   "execution_count": 2,
   "metadata": {},
   "outputs": [
    {
     "name": "stdout",
     "output_type": "stream",
     "text": [
      "_________________________________________________________________\n",
      "Layer (type)                 Output Shape              Param #   \n",
      "=================================================================\n",
      "input_1 (InputLayer)         (None, 150, 150, 3)       0         \n",
      "_________________________________________________________________\n",
      "block1_conv1 (Conv2D)        (None, 150, 150, 64)      1792      \n",
      "_________________________________________________________________\n",
      "block1_conv2 (Conv2D)        (None, 150, 150, 64)      36928     \n",
      "_________________________________________________________________\n",
      "block1_pool (MaxPooling2D)   (None, 75, 75, 64)        0         \n",
      "_________________________________________________________________\n",
      "block2_conv1 (Conv2D)        (None, 75, 75, 128)       73856     \n",
      "_________________________________________________________________\n",
      "block2_conv2 (Conv2D)        (None, 75, 75, 128)       147584    \n",
      "_________________________________________________________________\n",
      "block2_pool (MaxPooling2D)   (None, 37, 37, 128)       0         \n",
      "_________________________________________________________________\n",
      "block3_conv1 (Conv2D)        (None, 37, 37, 256)       295168    \n",
      "_________________________________________________________________\n",
      "block3_conv2 (Conv2D)        (None, 37, 37, 256)       590080    \n",
      "_________________________________________________________________\n",
      "block3_conv3 (Conv2D)        (None, 37, 37, 256)       590080    \n",
      "_________________________________________________________________\n",
      "block3_pool (MaxPooling2D)   (None, 18, 18, 256)       0         \n",
      "_________________________________________________________________\n",
      "block4_conv1 (Conv2D)        (None, 18, 18, 512)       1180160   \n",
      "_________________________________________________________________\n",
      "block4_conv2 (Conv2D)        (None, 18, 18, 512)       2359808   \n",
      "_________________________________________________________________\n",
      "block4_conv3 (Conv2D)        (None, 18, 18, 512)       2359808   \n",
      "_________________________________________________________________\n",
      "block4_pool (MaxPooling2D)   (None, 9, 9, 512)         0         \n",
      "_________________________________________________________________\n",
      "block5_conv1 (Conv2D)        (None, 9, 9, 512)         2359808   \n",
      "_________________________________________________________________\n",
      "block5_conv2 (Conv2D)        (None, 9, 9, 512)         2359808   \n",
      "_________________________________________________________________\n",
      "block5_conv3 (Conv2D)        (None, 9, 9, 512)         2359808   \n",
      "_________________________________________________________________\n",
      "block5_pool (MaxPooling2D)   (None, 4, 4, 512)         0         \n",
      "=================================================================\n",
      "Total params: 14,714,688\n",
      "Trainable params: 14,714,688\n",
      "Non-trainable params: 0\n",
      "_________________________________________________________________\n"
     ]
    }
   ],
   "source": [
    "conv_base.summary()"
   ]
  },
  {
   "cell_type": "markdown",
   "metadata": {},
   "source": [
    "导入了预训练模型后，需要增加最后的密集连接分类器。有2种方法：\n",
    "\n",
    " 1. 快速特征提取：在数据集上提前运行卷积基，输出结果序列化存储，后续直接创建新的线性分类器模型进行分类即可。\n",
    " \n",
    " 2. 使用数据增强的特征提取：在现有模型之上增加一些 Dense 层，**端对端**的运行整个模型。\n",
    " \n",
    "####  优缺点\n",
    "\n",
    "|方法|优点|缺点|\n",
    "|--|--|--|\n",
    "|快速特征提取|输入仅需要运行一次，代价低|不允许进行数据增强|\n",
    "|使用数据增强的特征提取|可使用数据增强，端对端|运行代价高|\n",
    "\n",
    "##### 1. 快速特征提取"
   ]
  },
  {
   "cell_type": "markdown",
   "metadata": {},
   "source": [
    " 1.1 提取出特征"
   ]
  },
  {
   "cell_type": "code",
   "execution_count": 3,
   "metadata": {},
   "outputs": [
    {
     "name": "stdout",
     "output_type": "stream",
     "text": [
      "Found 2000 images belonging to 2 classes.\n",
      "Found 1000 images belonging to 2 classes.\n",
      "Found 1000 images belonging to 2 classes.\n"
     ]
    }
   ],
   "source": [
    "import os\n",
    "import numpy as np\n",
    "from keras.preprocessing.image import ImageDataGenerator\n",
    "\n",
    "base_dir = '/Users/haoxingxiao/academic/data/dogs-vs-cats/small'\n",
    "train_dir = os.path.join(base_dir, 'train')\n",
    "validation_dir = os.path.join(base_dir, 'validation')\n",
    "test_dir = os.path.join(base_dir, 'test')\n",
    "\n",
    "datagen = ImageDataGenerator(rescale=1./255)\n",
    "batch_size = 20\n",
    "\n",
    "def extract_features(directory, sample_count):\n",
    "    features = np.zeros(shape=(sample_count, 4, 4, 512))\n",
    "    labels = np.zeros(shape=(sample_count))\n",
    "    generator = datagen.flow_from_directory(\n",
    "        directory,\n",
    "        target_size=(150, 150),\n",
    "        batch_size=batch_size,\n",
    "        class_mode='binary'\n",
    "    )\n",
    "    i = 0\n",
    "    for inputs_batch, labels_batch in generator:\n",
    "        features_batch = conv_base.predict(inputs_batch)\n",
    "        features[i * batch_size:(i + 1) * batch_size] = features_batch\n",
    "        labels[i * batch_size:(i + 1) * batch_size] = labels_batch\n",
    "        i += 1\n",
    "        if i * batch_size >= sample_count:\n",
    "            break\n",
    "    return features, labels\n",
    "\n",
    "\n",
    "train_features, train_labels = extract_features(train_dir, 2000)\n",
    "validation_features, validation_labels = extract_features(validation_dir, 1000)\n",
    "test_features, test_lables = extract_features(test_dir, 1000)\n",
    "\n",
    "train_features = np.reshape(train_features, (2000, 4 * 4 * 512))\n",
    "validation_features = np.reshape(validation_features, (1000, 4 * 4 * 512))\n",
    "test_features = np.reshape(test_features, (1000, 4 * 4 * 512))\n"
   ]
  },
  {
   "cell_type": "markdown",
   "metadata": {},
   "source": [
    " 1.2 实现自己的线性分类器"
   ]
  },
  {
   "cell_type": "code",
   "execution_count": 5,
   "metadata": {},
   "outputs": [
    {
     "name": "stdout",
     "output_type": "stream",
     "text": [
      "WARNING:tensorflow:From /usr/local/lib/python3.7/site-packages/keras/backend/tensorflow_backend.py:2990: calling dropout (from tensorflow.python.ops.nn_ops) with keep_prob is deprecated and will be removed in a future version.\n",
      "Instructions for updating:\n",
      "Please use `rate` instead of `keep_prob`. Rate should be set to `rate = 1 - keep_prob`.\n",
      "WARNING:tensorflow:From /usr/local/lib/python3.7/site-packages/keras/optimizers.py:711: The name tf.train.Optimizer is deprecated. Please use tf.compat.v1.train.Optimizer instead.\n",
      "\n",
      "WARNING:tensorflow:From /usr/local/lib/python3.7/site-packages/keras/backend/tensorflow_backend.py:2921: The name tf.log is deprecated. Please use tf.math.log instead.\n",
      "\n",
      "WARNING:tensorflow:From /usr/local/lib/python3.7/site-packages/tensorflow_core/python/ops/nn_impl.py:183: where (from tensorflow.python.ops.array_ops) is deprecated and will be removed in a future version.\n",
      "Instructions for updating:\n",
      "Use tf.where in 2.0, which has the same broadcast rule as np.where\n",
      "WARNING:tensorflow:From /usr/local/lib/python3.7/site-packages/keras/backend/tensorflow_backend.py:671: calling Constant.__init__ (from tensorflow.python.ops.init_ops) with dtype is deprecated and will be removed in a future version.\n",
      "Instructions for updating:\n",
      "Call initializer instance with the dtype argument instead of passing it to the constructor\n",
      "WARNING:tensorflow:From /usr/local/lib/python3.7/site-packages/keras/backend/tensorflow_backend.py:949: The name tf.assign_add is deprecated. Please use tf.compat.v1.assign_add instead.\n",
      "\n",
      "WARNING:tensorflow:From /usr/local/lib/python3.7/site-packages/keras/backend/tensorflow_backend.py:936: The name tf.assign is deprecated. Please use tf.compat.v1.assign instead.\n",
      "\n",
      "Train on 2000 samples, validate on 1000 samples\n",
      "Epoch 1/30\n",
      "2000/2000 [==============================] - 2s 1ms/step - loss: 0.6029 - acc: 0.6715 - val_loss: 0.4470 - val_acc: 0.8370\n",
      "Epoch 2/30\n",
      "2000/2000 [==============================] - 2s 1ms/step - loss: 0.4389 - acc: 0.8000 - val_loss: 0.3735 - val_acc: 0.8550\n",
      "Epoch 3/30\n",
      "2000/2000 [==============================] - 2s 1ms/step - loss: 0.3661 - acc: 0.8405 - val_loss: 0.3248 - val_acc: 0.8820\n",
      "Epoch 4/30\n",
      "2000/2000 [==============================] - 2s 1ms/step - loss: 0.3288 - acc: 0.8620 - val_loss: 0.3070 - val_acc: 0.8750\n",
      "Epoch 5/30\n",
      "2000/2000 [==============================] - 2s 1ms/step - loss: 0.2898 - acc: 0.8835 - val_loss: 0.2831 - val_acc: 0.8950\n",
      "Epoch 6/30\n",
      "2000/2000 [==============================] - 2s 1ms/step - loss: 0.2819 - acc: 0.8870 - val_loss: 0.2794 - val_acc: 0.8860\n",
      "Epoch 7/30\n",
      "2000/2000 [==============================] - 2s 1ms/step - loss: 0.2551 - acc: 0.8975 - val_loss: 0.2637 - val_acc: 0.8910\n",
      "Epoch 8/30\n",
      "2000/2000 [==============================] - 2s 1ms/step - loss: 0.2381 - acc: 0.9130 - val_loss: 0.2653 - val_acc: 0.8910\n",
      "Epoch 9/30\n",
      "2000/2000 [==============================] - 2s 1ms/step - loss: 0.2252 - acc: 0.9105 - val_loss: 0.2590 - val_acc: 0.8960\n",
      "Epoch 10/30\n",
      "2000/2000 [==============================] - 2s 1ms/step - loss: 0.2142 - acc: 0.9300 - val_loss: 0.2457 - val_acc: 0.9020\n",
      "Epoch 11/30\n",
      "2000/2000 [==============================] - 2s 1ms/step - loss: 0.2015 - acc: 0.9240 - val_loss: 0.2476 - val_acc: 0.8970\n",
      "Epoch 12/30\n",
      "2000/2000 [==============================] - 2s 1ms/step - loss: 0.1929 - acc: 0.9305 - val_loss: 0.2409 - val_acc: 0.9020\n",
      "Epoch 13/30\n",
      "2000/2000 [==============================] - 2s 1ms/step - loss: 0.1929 - acc: 0.9295 - val_loss: 0.2422 - val_acc: 0.8990\n",
      "Epoch 14/30\n",
      "2000/2000 [==============================] - 2s 1ms/step - loss: 0.1817 - acc: 0.9335 - val_loss: 0.2376 - val_acc: 0.8990\n",
      "Epoch 15/30\n",
      "2000/2000 [==============================] - 2s 1ms/step - loss: 0.1683 - acc: 0.9425 - val_loss: 0.2338 - val_acc: 0.9020\n",
      "Epoch 16/30\n",
      "2000/2000 [==============================] - 2s 1ms/step - loss: 0.1626 - acc: 0.9390 - val_loss: 0.2332 - val_acc: 0.9050\n",
      "Epoch 17/30\n",
      "2000/2000 [==============================] - 2s 1ms/step - loss: 0.1570 - acc: 0.9460 - val_loss: 0.2398 - val_acc: 0.8960\n",
      "Epoch 18/30\n",
      "2000/2000 [==============================] - 2s 1ms/step - loss: 0.1498 - acc: 0.9480 - val_loss: 0.2322 - val_acc: 0.9060\n",
      "Epoch 19/30\n",
      "2000/2000 [==============================] - 2s 1ms/step - loss: 0.1454 - acc: 0.9490 - val_loss: 0.2301 - val_acc: 0.9030\n",
      "Epoch 20/30\n",
      "2000/2000 [==============================] - 2s 1ms/step - loss: 0.1440 - acc: 0.9480 - val_loss: 0.2320 - val_acc: 0.8970\n",
      "Epoch 21/30\n",
      "2000/2000 [==============================] - 2s 1ms/step - loss: 0.1301 - acc: 0.9590 - val_loss: 0.2295 - val_acc: 0.9090\n",
      "Epoch 22/30\n",
      "2000/2000 [==============================] - 2s 1ms/step - loss: 0.1293 - acc: 0.9590 - val_loss: 0.2305 - val_acc: 0.9020\n",
      "Epoch 23/30\n",
      "2000/2000 [==============================] - 2s 1ms/step - loss: 0.1225 - acc: 0.9565 - val_loss: 0.2297 - val_acc: 0.9090\n",
      "Epoch 24/30\n",
      "2000/2000 [==============================] - 2s 999us/step - loss: 0.1178 - acc: 0.9585 - val_loss: 0.2325 - val_acc: 0.8970\n",
      "Epoch 25/30\n",
      "2000/2000 [==============================] - 2s 1ms/step - loss: 0.1120 - acc: 0.9660 - val_loss: 0.2397 - val_acc: 0.8980\n",
      "Epoch 26/30\n",
      "2000/2000 [==============================] - 2s 1ms/step - loss: 0.1168 - acc: 0.9650 - val_loss: 0.2332 - val_acc: 0.8970\n",
      "Epoch 27/30\n",
      "2000/2000 [==============================] - 2s 998us/step - loss: 0.1081 - acc: 0.9625 - val_loss: 0.2322 - val_acc: 0.8960\n",
      "Epoch 28/30\n",
      "2000/2000 [==============================] - 2s 992us/step - loss: 0.1023 - acc: 0.9670 - val_loss: 0.2494 - val_acc: 0.8930\n",
      "Epoch 29/30\n",
      "2000/2000 [==============================] - 2s 993us/step - loss: 0.0985 - acc: 0.9665 - val_loss: 0.2277 - val_acc: 0.9070\n",
      "Epoch 30/30\n",
      "2000/2000 [==============================] - 2s 989us/step - loss: 0.0951 - acc: 0.9750 - val_loss: 0.2321 - val_acc: 0.8990\n"
     ]
    }
   ],
   "source": [
    "from keras import models\n",
    "from keras import layers\n",
    "from keras import optimizers\n",
    "\n",
    "model = models.Sequential()\n",
    "model.add(layers.Dense(256, activation='relu', input_dim=4*4*512))\n",
    "model.add(layers.Dropout(0.5))\n",
    "model.add(layers.Dense(1, activation='sigmoid'))\n",
    "\n",
    "model.compile(optimizer=optimizers.RMSprop(lr=2e-5),\n",
    "             loss='binary_crossentropy',\n",
    "             metrics=['acc'])\n",
    "history = model.fit(train_features, \n",
    "                    train_labels, \n",
    "                    epochs=30, \n",
    "                    batch_size=20, \n",
    "                    validation_data=(validation_features, validation_labels))"
   ]
  },
  {
   "cell_type": "markdown",
   "metadata": {},
   "source": [
    "看看 loss 和 accuracy："
   ]
  },
  {
   "cell_type": "code",
   "execution_count": 8,
   "metadata": {
    "scrolled": false
   },
   "outputs": [
    {
     "data": {
      "image/png": "[encoded data removed]",
      "text/plain": [
       "<Figure size 432x288 with 1 Axes>"
      ]
     },
     "metadata": {
      "needs_background": "light"
     },
     "output_type": "display_data"
    },
    {
     "data": {
      "image/png": "[encoded data removed]",
      "text/plain": [
       "<Figure size 432x288 with 1 Axes>"
      ]
     },
     "metadata": {
      "needs_background": "light"
     },
     "output_type": "display_data"
    }
   ],
   "source": [
    "import matplotlib.pyplot as plt\n",
    "\n",
    "acc = history.history['acc']\n",
    "val_acc = history.history['val_acc']\n",
    "loss = history.history['loss']\n",
    "val_loss = history.history['val_loss']\n",
    "\n",
    "epochs = range(1, len(acc) + 1)\n",
    "\n",
    "plt.plot(epochs, acc, 'bo', label='Training Acc')\n",
    "plt.plot(epochs, val_acc, 'b', label='Validation Acc')\n",
    "plt.title('Training and Validation Accuracy')\n",
    "plt.legend()\n",
    "\n",
    "plt.figure()\n",
    "\n",
    "plt.plot(epochs, loss, 'bo', label='Training loss')\n",
    "plt.plot(epochs, val_loss, 'b', label='Validation loss')\n",
    "plt.title('Training and Validation Accuracy')\n",
    "plt.legend()\n",
    "\n",
    "plt.show()"
   ]
  },
  {
   "cell_type": "markdown",
   "metadata": {},
   "source": [
    "精确度达到了90%。比之前效果好很多。但是一开始就开始过拟合。\n",
    "**使用数据增强对小数据集的过拟合非常重要。**"
   ]
  },
  {
   "cell_type": "markdown",
   "metadata": {},
   "source": [
    "#### 2. 端对端\n",
    "\n",
    "**警告：该方法只能在 GPU 上运行**"
   ]
  },
  {
   "cell_type": "code",
   "execution_count": 10,
   "metadata": {},
   "outputs": [
    {
     "name": "stdout",
     "output_type": "stream",
     "text": [
      "WARNING:tensorflow:From /usr/local/lib/python3.7/site-packages/keras/backend/tensorflow_backend.py:1255: calling reduce_prod_v1 (from tensorflow.python.ops.math_ops) with keep_dims is deprecated and will be removed in a future version.\n",
      "Instructions for updating:\n",
      "keep_dims is deprecated, use keepdims instead\n",
      "_________________________________________________________________\n",
      "Layer (type)                 Output Shape              Param #   \n",
      "=================================================================\n",
      "vgg16 (Model)                (None, 4, 4, 512)         14714688  \n",
      "_________________________________________________________________\n",
      "flatten_1 (Flatten)          (None, 8192)              0         \n",
      "_________________________________________________________________\n",
      "dense_3 (Dense)              (None, 256)               2097408   \n",
      "_________________________________________________________________\n",
      "dense_4 (Dense)              (None, 1)                 257       \n",
      "=================================================================\n",
      "Total params: 16,812,353\n",
      "Trainable params: 16,812,353\n",
      "Non-trainable params: 0\n",
      "_________________________________________________________________\n"
     ]
    }
   ],
   "source": [
    "from keras import models\n",
    "from keras import layers\n",
    "\n",
    "model = models.Sequential()\n",
    "model.add(conv_base)\n",
    "model.add(layers.Flatten())\n",
    "model.add(layers.Dense(256, activation='relu'))\n",
    "model.add(layers.Dense(1, activation='sigmoid'))\n",
    "\n",
    "model.summary()"
   ]
  },
  {
   "cell_type": "markdown",
   "metadata": {},
   "source": [
    "需要先冻结卷积基："
   ]
  },
  {
   "cell_type": "code",
   "execution_count": 11,
   "metadata": {},
   "outputs": [
    {
     "name": "stdout",
     "output_type": "stream",
     "text": [
      "before freeze: 30\n",
      "after freeze: 4\n"
     ]
    }
   ],
   "source": [
    "print('before freeze:', len(model.trainable_weights))\n",
    "conv_base.trainable = False\n",
    "print('after freeze:', len(model.trainable_weights))"
   ]
  },
  {
   "cell_type": "markdown",
   "metadata": {},
   "source": [
    "冻结之后，只有Dense层的权重才会被训练。"
   ]
  },
  {
   "cell_type": "code",
   "execution_count": 15,
   "metadata": {},
   "outputs": [
    {
     "name": "stdout",
     "output_type": "stream",
     "text": [
      "Found 2000 images belonging to 2 classes.\n",
      "Found 1000 images belonging to 2 classes.\n",
      "Epoch 1/30\n",
      "100/100 [==============================] - 364s 4s/step - loss: 0.5015 - acc: 0.7470 - val_loss: 0.2051 - val_acc: 0.9060\n",
      "Epoch 2/30\n",
      "100/100 [==============================] - 366s 4s/step - loss: 0.3286 - acc: 0.8540 - val_loss: 0.2573 - val_acc: 0.8830\n",
      "Epoch 3/30\n",
      "100/100 [==============================] - 388s 4s/step - loss: 0.2578 - acc: 0.8980 - val_loss: 0.1335 - val_acc: 0.9450\n",
      "Epoch 4/30\n",
      "100/100 [==============================] - 387s 4s/step - loss: 0.2466 - acc: 0.8985 - val_loss: 0.2798 - val_acc: 0.8800\n",
      "Epoch 5/30\n",
      "100/100 [==============================] - 389s 4s/step - loss: 0.1903 - acc: 0.9180 - val_loss: 0.1164 - val_acc: 0.9500\n",
      "Epoch 6/30\n",
      "100/100 [==============================] - 390s 4s/step - loss: 0.1942 - acc: 0.9245 - val_loss: 0.1320 - val_acc: 0.9330\n",
      "Epoch 7/30\n",
      "100/100 [==============================] - 393s 4s/step - loss: 0.1864 - acc: 0.9205 - val_loss: 0.1111 - val_acc: 0.9480\n",
      "Epoch 8/30\n",
      "100/100 [==============================] - 421s 4s/step - loss: 0.1731 - acc: 0.9350 - val_loss: 0.3237 - val_acc: 0.8890\n",
      "Epoch 9/30\n",
      "100/100 [==============================] - 400s 4s/step - loss: 0.1481 - acc: 0.9415 - val_loss: 0.1137 - val_acc: 0.9450\n",
      "Epoch 10/30\n",
      "100/100 [==============================] - 405s 4s/step - loss: 0.1513 - acc: 0.9365 - val_loss: 0.1257 - val_acc: 0.9520\n",
      "Epoch 11/30\n",
      "100/100 [==============================] - 415s 4s/step - loss: 0.1444 - acc: 0.9480 - val_loss: 0.1160 - val_acc: 0.9560\n",
      "Epoch 12/30\n",
      "100/100 [==============================] - 387s 4s/step - loss: 0.1437 - acc: 0.9460 - val_loss: 0.1274 - val_acc: 0.9450\n",
      "Epoch 13/30\n",
      "100/100 [==============================] - 378s 4s/step - loss: 0.1254 - acc: 0.9490 - val_loss: 0.1548 - val_acc: 0.9560\n",
      "Epoch 14/30\n",
      "100/100 [==============================] - 369s 4s/step - loss: 0.1265 - acc: 0.9490 - val_loss: 0.1578 - val_acc: 0.9400\n",
      "Epoch 15/30\n",
      "100/100 [==============================] - 375s 4s/step - loss: 0.1410 - acc: 0.9465 - val_loss: 0.1165 - val_acc: 0.9570\n",
      "Epoch 16/30\n",
      "100/100 [==============================] - 360s 4s/step - loss: 0.1217 - acc: 0.9485 - val_loss: 0.1407 - val_acc: 0.9580\n",
      "Epoch 17/30\n",
      "100/100 [==============================] - 358s 4s/step - loss: 0.1194 - acc: 0.9555 - val_loss: 0.4188 - val_acc: 0.9020\n",
      "Epoch 18/30\n",
      "100/100 [==============================] - 357s 4s/step - loss: 0.1251 - acc: 0.9555 - val_loss: 0.1465 - val_acc: 0.9470\n",
      "Epoch 19/30\n",
      "100/100 [==============================] - 352s 4s/step - loss: 0.1281 - acc: 0.9480 - val_loss: 0.2303 - val_acc: 0.9480\n",
      "Epoch 20/30\n",
      "100/100 [==============================] - 361s 4s/step - loss: 0.1176 - acc: 0.9560 - val_loss: 0.1681 - val_acc: 0.9470\n",
      "Epoch 21/30\n",
      "100/100 [==============================] - 354s 4s/step - loss: 0.1199 - acc: 0.9550 - val_loss: 0.1210 - val_acc: 0.9600\n",
      "Epoch 22/30\n",
      "100/100 [==============================] - 357s 4s/step - loss: 0.1162 - acc: 0.9640 - val_loss: 0.1696 - val_acc: 0.9580\n",
      "Epoch 23/30\n",
      "100/100 [==============================] - 356s 4s/step - loss: 0.1346 - acc: 0.9545 - val_loss: 0.1219 - val_acc: 0.9610\n",
      "Epoch 24/30\n",
      "100/100 [==============================] - 351s 4s/step - loss: 0.1195 - acc: 0.9630 - val_loss: 0.1311 - val_acc: 0.9580\n",
      "Epoch 25/30\n",
      "100/100 [==============================] - 359s 4s/step - loss: 0.1339 - acc: 0.9490 - val_loss: 0.1397 - val_acc: 0.9500\n",
      "Epoch 26/30\n",
      "100/100 [==============================] - 358s 4s/step - loss: 0.1072 - acc: 0.9605 - val_loss: 0.1488 - val_acc: 0.9570\n",
      "Epoch 27/30\n",
      "100/100 [==============================] - 353s 4s/step - loss: 0.1327 - acc: 0.9590 - val_loss: 0.1351 - val_acc: 0.9570\n",
      "Epoch 28/30\n",
      "100/100 [==============================] - 353s 4s/step - loss: 0.1212 - acc: 0.9590 - val_loss: 0.1208 - val_acc: 0.9650\n",
      "Epoch 29/30\n",
      "100/100 [==============================] - 358s 4s/step - loss: 0.1404 - acc: 0.9510 - val_loss: 0.1134 - val_acc: 0.9610\n",
      "Epoch 30/30\n",
      "100/100 [==============================] - 358s 4s/step - loss: 0.1168 - acc: 0.9600 - val_loss: 0.1064 - val_acc: 0.9600\n"
     ]
    }
   ],
   "source": [
    "from keras.preprocessing.image import ImageDataGenerator\n",
    "from keras import optimizers\n",
    "\n",
    "train_datagen = ImageDataGenerator(\n",
    "    rescale=1./255,\n",
    "    rotation_range=40,\n",
    "    width_shift_range=0.2,\n",
    "    height_shift_range=0.2,\n",
    "    shear_range=0.2,\n",
    "    zoom_range=0.2,\n",
    "    horizontal_flip=True,\n",
    "    fill_mode='nearest'\n",
    ")\n",
    "\n",
    "test_datagen = ImageDataGenerator(rescale=1./255)\n",
    "\n",
    "train_generator = train_datagen.flow_from_directory(\n",
    "    train_dir,\n",
    "    target_size=(150, 150),\n",
    "    batch_size=20,\n",
    "    class_mode='binary'\n",
    ")\n",
    "\n",
    "validation_generator = test_datagen.flow_from_directory(\n",
    "    validation_dir,\n",
    "    target_size=(150, 150),\n",
    "    batch_size=20,\n",
    "    class_mode='binary'\n",
    ")\n",
    "\n",
    "model.compile(\n",
    "    loss='binary_crossentropy',\n",
    "    optimizer=optimizers.RMSprop(lr=2e-5),\n",
    "    metrics=['acc']\n",
    ")\n",
    "\n",
    "history = model.fit_generator(\n",
    "    train_generator,\n",
    "    steps_per_epoch=100,\n",
    "    epochs=30,\n",
    "    validation_data=validation_generator,\n",
    "    validation_steps=50\n",
    ")"
   ]
  },
  {
   "cell_type": "markdown",
   "metadata": {},
   "source": [
    "在 CPU 上硬跑完了~看看效果吧："
   ]
  },
  {
   "cell_type": "code",
   "execution_count": 16,
   "metadata": {},
   "outputs": [
    {
     "data": {
      "image/png": "[encoded data removed]",
      "text/plain": [
       "<Figure size 432x288 with 1 Axes>"
      ]
     },
     "metadata": {
      "needs_background": "light"
     },
     "output_type": "display_data"
    },
    {
     "data": {
      "image/png": "[encoded data removed]",
      "text/plain": [
       "<Figure size 432x288 with 1 Axes>"
      ]
     },
     "metadata": {
      "needs_background": "light"
     },
     "output_type": "display_data"
    }
   ],
   "source": [
    "acc = history.history['acc']\n",
    "val_acc = history.history['val_acc']\n",
    "loss = history.history['loss']\n",
    "val_loss = history.history['val_loss']\n",
    "\n",
    "epochs = range(1, len(acc) + 1)\n",
    "\n",
    "plt.plot(epochs, acc, 'bo', label='Training Acc')\n",
    "plt.plot(epochs, val_acc, 'b', label='Validation Acc')\n",
    "plt.title('Training and Validation Accuracy')\n",
    "plt.legend()\n",
    "\n",
    "plt.figure()\n",
    "\n",
    "plt.plot(epochs, loss, 'bo', label='Training loss')\n",
    "plt.plot(epochs, val_loss, 'b', label='Validation loss')\n",
    "plt.title('Training and Validation Accuracy')\n",
    "plt.legend()\n",
    "\n",
    "plt.show()"
   ]
  },
  {
   "cell_type": "markdown",
   "metadata": {},
   "source": [
    "Wow，很快训练和验证集上都稳定在95%左右，效果不错！"
   ]
  },
  {
   "cell_type": "markdown",
   "metadata": {},
   "source": [
    "## 微调模型\n",
    "\n",
    "相对于特征提取，这里将原始模型的最顶部几层解冻，调整其参数。仅调整了一些最抽象的表示。\n",
    "\n",
    "**步骤**：\n",
    "\n",
    " 1. 已经训练好的模型上添加自定义网络\n",
    " \n",
    " 2. 冻结基模型\n",
    " \n",
    " 3. 训练添加的模型\n",
    " \n",
    " 4. 解冻基网络中几层\n",
    " \n",
    " 5. 联合训练解冻层和添加的网络\n",
    " \n",
    "将模型修改为只训练最后一层："
   ]
  },
  {
   "cell_type": "code",
   "execution_count": 19,
   "metadata": {},
   "outputs": [
    {
     "name": "stdout",
     "output_type": "stream",
     "text": [
      "_________________________________________________________________\n",
      "Layer (type)                 Output Shape              Param #   \n",
      "=================================================================\n",
      "input_1 (InputLayer)         (None, 150, 150, 3)       0         \n",
      "_________________________________________________________________\n",
      "block1_conv1 (Conv2D)        (None, 150, 150, 64)      1792      \n",
      "_________________________________________________________________\n",
      "block1_conv2 (Conv2D)        (None, 150, 150, 64)      36928     \n",
      "_________________________________________________________________\n",
      "block1_pool (MaxPooling2D)   (None, 75, 75, 64)        0         \n",
      "_________________________________________________________________\n",
      "block2_conv1 (Conv2D)        (None, 75, 75, 128)       73856     \n",
      "_________________________________________________________________\n",
      "block2_conv2 (Conv2D)        (None, 75, 75, 128)       147584    \n",
      "_________________________________________________________________\n",
      "block2_pool (MaxPooling2D)   (None, 37, 37, 128)       0         \n",
      "_________________________________________________________________\n",
      "block3_conv1 (Conv2D)        (None, 37, 37, 256)       295168    \n",
      "_________________________________________________________________\n",
      "block3_conv2 (Conv2D)        (None, 37, 37, 256)       590080    \n",
      "_________________________________________________________________\n",
      "block3_conv3 (Conv2D)        (None, 37, 37, 256)       590080    \n",
      "_________________________________________________________________\n",
      "block3_pool (MaxPooling2D)   (None, 18, 18, 256)       0         \n",
      "_________________________________________________________________\n",
      "block4_conv1 (Conv2D)        (None, 18, 18, 512)       1180160   \n",
      "_________________________________________________________________\n",
      "block4_conv2 (Conv2D)        (None, 18, 18, 512)       2359808   \n",
      "_________________________________________________________________\n",
      "block4_conv3 (Conv2D)        (None, 18, 18, 512)       2359808   \n",
      "_________________________________________________________________\n",
      "block4_pool (MaxPooling2D)   (None, 9, 9, 512)         0         \n",
      "_________________________________________________________________\n",
      "block5_conv1 (Conv2D)        (None, 9, 9, 512)         2359808   \n",
      "_________________________________________________________________\n",
      "block5_conv2 (Conv2D)        (None, 9, 9, 512)         2359808   \n",
      "_________________________________________________________________\n",
      "block5_conv3 (Conv2D)        (None, 9, 9, 512)         2359808   \n",
      "_________________________________________________________________\n",
      "block5_pool (MaxPooling2D)   (None, 4, 4, 512)         0         \n",
      "=================================================================\n",
      "Total params: 14,714,688\n",
      "Trainable params: 7,079,424\n",
      "Non-trainable params: 7,635,264\n",
      "_________________________________________________________________\n"
     ]
    }
   ],
   "source": [
    "conv_base.trainable = True\n",
    "set_trainable = False\n",
    "for layer in conv_base.layers:\n",
    "    if layer.name == 'block5_conv1':\n",
    "        set_trainable = True\n",
    "    if set_trainable:\n",
    "        layer.trainable = True\n",
    "    else:\n",
    "        layer.trainable = False\n",
    "conv_base.summary()"
   ]
  },
  {
   "cell_type": "code",
   "execution_count": 20,
   "metadata": {},
   "outputs": [
    {
     "name": "stdout",
     "output_type": "stream",
     "text": [
      "Epoch 1/100\n",
      "100/100 [==============================] - 147s 1s/step - loss: 0.0447 - acc: 0.9865 - val_loss: 0.1476 - val_acc: 0.9610\n",
      "Epoch 2/100\n",
      "100/100 [==============================] - 152s 2s/step - loss: 0.0306 - acc: 0.9895 - val_loss: 0.1614 - val_acc: 0.9650\n",
      "Epoch 3/100\n",
      "100/100 [==============================] - 172s 2s/step - loss: 0.0320 - acc: 0.9910 - val_loss: 0.1702 - val_acc: 0.9620\n",
      "Epoch 4/100\n",
      "100/100 [==============================] - 181s 2s/step - loss: 0.0463 - acc: 0.9870 - val_loss: 0.1488 - val_acc: 0.9600\n",
      "Epoch 5/100\n",
      "100/100 [==============================] - 182s 2s/step - loss: 0.0381 - acc: 0.9875 - val_loss: 0.1771 - val_acc: 0.9600\n",
      "Epoch 6/100\n",
      "100/100 [==============================] - 184s 2s/step - loss: 0.0547 - acc: 0.9860 - val_loss: 0.1423 - val_acc: 0.9660\n",
      "Epoch 7/100\n",
      "100/100 [==============================] - 180s 2s/step - loss: 0.0361 - acc: 0.9900 - val_loss: 0.1490 - val_acc: 0.9740\n",
      "Epoch 8/100\n",
      "100/100 [==============================] - 174s 2s/step - loss: 0.0314 - acc: 0.9880 - val_loss: 0.1314 - val_acc: 0.9690\n",
      "Epoch 9/100\n",
      "100/100 [==============================] - 176s 2s/step - loss: 0.0274 - acc: 0.9905 - val_loss: 0.1433 - val_acc: 0.9700\n",
      "Epoch 10/100\n",
      "100/100 [==============================] - 178s 2s/step - loss: 0.0269 - acc: 0.9915 - val_loss: 0.1603 - val_acc: 0.9700\n",
      "Epoch 11/100\n",
      "100/100 [==============================] - 179s 2s/step - loss: 0.0437 - acc: 0.9875 - val_loss: 0.1529 - val_acc: 0.9660\n",
      "Epoch 12/100\n",
      "100/100 [==============================] - 183s 2s/step - loss: 0.0243 - acc: 0.9945 - val_loss: 0.1603 - val_acc: 0.9670\n",
      "Epoch 13/100\n",
      "100/100 [==============================] - 182s 2s/step - loss: 0.0446 - acc: 0.9900 - val_loss: 0.1369 - val_acc: 0.9690\n",
      "Epoch 14/100\n",
      "100/100 [==============================] - 196s 2s/step - loss: 0.0245 - acc: 0.9905 - val_loss: 0.1181 - val_acc: 0.9750\n",
      "Epoch 15/100\n",
      "100/100 [==============================] - 191s 2s/step - loss: 0.0240 - acc: 0.9925 - val_loss: 0.1302 - val_acc: 0.9700\n",
      "Epoch 16/100\n",
      "100/100 [==============================] - 193s 2s/step - loss: 0.0222 - acc: 0.9925 - val_loss: 0.1766 - val_acc: 0.9720\n",
      "Epoch 17/100\n",
      "100/100 [==============================] - 182s 2s/step - loss: 0.0329 - acc: 0.9885 - val_loss: 0.1281 - val_acc: 0.9740\n",
      "Epoch 18/100\n",
      "100/100 [==============================] - 175s 2s/step - loss: 0.0303 - acc: 0.9900 - val_loss: 0.1472 - val_acc: 0.9720\n",
      "Epoch 19/100\n",
      "100/100 [==============================] - 171s 2s/step - loss: 0.0298 - acc: 0.9895 - val_loss: 0.1600 - val_acc: 0.9620\n",
      "Epoch 20/100\n",
      "100/100 [==============================] - 171s 2s/step - loss: 0.0241 - acc: 0.9900 - val_loss: 0.1580 - val_acc: 0.9690\n",
      "Epoch 21/100\n",
      "100/100 [==============================] - 173s 2s/step - loss: 0.0263 - acc: 0.9905 - val_loss: 0.2168 - val_acc: 0.9620\n",
      "Epoch 22/100\n",
      "100/100 [==============================] - 175s 2s/step - loss: 0.0368 - acc: 0.9865 - val_loss: 0.1897 - val_acc: 0.9670\n",
      "Epoch 23/100\n",
      "100/100 [==============================] - 179s 2s/step - loss: 0.0135 - acc: 0.9960 - val_loss: 0.1869 - val_acc: 0.9670\n",
      "Epoch 24/100\n",
      "100/100 [==============================] - 175s 2s/step - loss: 0.0366 - acc: 0.9900 - val_loss: 0.2061 - val_acc: 0.9710\n",
      "Epoch 25/100\n",
      "100/100 [==============================] - 168s 2s/step - loss: 0.0338 - acc: 0.9920 - val_loss: 0.2200 - val_acc: 0.9670\n",
      "Epoch 26/100\n",
      "100/100 [==============================] - 164s 2s/step - loss: 0.0209 - acc: 0.9940 - val_loss: 0.1346 - val_acc: 0.9730\n",
      "Epoch 27/100\n",
      "100/100 [==============================] - 158s 2s/step - loss: 0.0140 - acc: 0.9950 - val_loss: 0.1976 - val_acc: 0.9700\n",
      "Epoch 28/100\n",
      "100/100 [==============================] - 155s 2s/step - loss: 0.0334 - acc: 0.9955 - val_loss: 0.2404 - val_acc: 0.9610\n",
      "Epoch 29/100\n",
      "100/100 [==============================] - 158s 2s/step - loss: 0.0278 - acc: 0.9905 - val_loss: 0.2301 - val_acc: 0.9680\n",
      "Epoch 30/100\n",
      "100/100 [==============================] - 156s 2s/step - loss: 0.0235 - acc: 0.9940 - val_loss: 0.2319 - val_acc: 0.9680\n",
      "Epoch 31/100\n",
      "100/100 [==============================] - 158s 2s/step - loss: 0.0263 - acc: 0.9905 - val_loss: 0.1447 - val_acc: 0.9760\n",
      "Epoch 32/100\n",
      "100/100 [==============================] - 157s 2s/step - loss: 0.0245 - acc: 0.9930 - val_loss: 0.2602 - val_acc: 0.9640\n",
      "Epoch 33/100\n",
      "100/100 [==============================] - 156s 2s/step - loss: 0.0229 - acc: 0.9940 - val_loss: 0.1607 - val_acc: 0.9710\n",
      "Epoch 34/100\n",
      "100/100 [==============================] - 153s 2s/step - loss: 0.0105 - acc: 0.9955 - val_loss: 0.2017 - val_acc: 0.9690\n",
      "Epoch 35/100\n",
      "100/100 [==============================] - 153s 2s/step - loss: 0.0369 - acc: 0.9930 - val_loss: 0.1594 - val_acc: 0.9740\n",
      "Epoch 36/100\n",
      "100/100 [==============================] - 154s 2s/step - loss: 0.0192 - acc: 0.9935 - val_loss: 0.1617 - val_acc: 0.9740\n",
      "Epoch 37/100\n",
      "100/100 [==============================] - 156s 2s/step - loss: 0.0258 - acc: 0.9945 - val_loss: 0.2069 - val_acc: 0.9660\n",
      "Epoch 38/100\n",
      "100/100 [==============================] - 157s 2s/step - loss: 0.0215 - acc: 0.9955 - val_loss: 0.1507 - val_acc: 0.9750\n",
      "Epoch 39/100\n",
      "100/100 [==============================] - 157s 2s/step - loss: 0.0381 - acc: 0.9925 - val_loss: 0.1250 - val_acc: 0.9800\n",
      "Epoch 40/100\n",
      "100/100 [==============================] - 154s 2s/step - loss: 0.0206 - acc: 0.9955 - val_loss: 0.1641 - val_acc: 0.9740\n",
      "Epoch 41/100\n",
      "100/100 [==============================] - 153s 2s/step - loss: 0.0314 - acc: 0.9925 - val_loss: 0.2026 - val_acc: 0.9700\n",
      "Epoch 42/100\n",
      "100/100 [==============================] - 153s 2s/step - loss: 0.0132 - acc: 0.9955 - val_loss: 0.1678 - val_acc: 0.9740\n",
      "Epoch 43/100\n",
      "100/100 [==============================] - 154s 2s/step - loss: 0.0402 - acc: 0.9895 - val_loss: 0.1277 - val_acc: 0.9750\n",
      "Epoch 44/100\n",
      "100/100 [==============================] - 155s 2s/step - loss: 0.0230 - acc: 0.9920 - val_loss: 0.1889 - val_acc: 0.9660\n",
      "Epoch 45/100\n",
      "100/100 [==============================] - 157s 2s/step - loss: 0.0197 - acc: 0.9935 - val_loss: 0.1897 - val_acc: 0.9740\n",
      "Epoch 46/100\n",
      "100/100 [==============================] - 161s 2s/step - loss: 0.0186 - acc: 0.9955 - val_loss: 0.1581 - val_acc: 0.9720\n",
      "Epoch 47/100\n",
      "100/100 [==============================] - 156s 2s/step - loss: 0.0315 - acc: 0.9925 - val_loss: 0.1727 - val_acc: 0.9740\n",
      "Epoch 48/100\n",
      "100/100 [==============================] - 156s 2s/step - loss: 0.0263 - acc: 0.9940 - val_loss: 0.2310 - val_acc: 0.9640\n",
      "Epoch 49/100\n",
      "100/100 [==============================] - 162s 2s/step - loss: 0.0439 - acc: 0.9935 - val_loss: 0.2206 - val_acc: 0.9650\n",
      "Epoch 50/100\n",
      "100/100 [==============================] - 165s 2s/step - loss: 0.0506 - acc: 0.9910 - val_loss: 0.1970 - val_acc: 0.9660\n",
      "Epoch 51/100\n",
      "100/100 [==============================] - 152s 2s/step - loss: 0.0112 - acc: 0.9960 - val_loss: 0.1928 - val_acc: 0.9740\n",
      "Epoch 52/100\n",
      "100/100 [==============================] - 5151s 52s/step - loss: 0.0224 - acc: 0.9920 - val_loss: 0.1695 - val_acc: 0.9710\n",
      "Epoch 53/100\n",
      "100/100 [==============================] - 1977s 20s/step - loss: 0.0367 - acc: 0.9910 - val_loss: 0.1910 - val_acc: 0.9640\n",
      "Epoch 54/100\n",
      "100/100 [==============================] - 318s 3s/step - loss: 0.0120 - acc: 0.9960 - val_loss: 0.1869 - val_acc: 0.9730\n",
      "Epoch 55/100\n",
      "100/100 [==============================] - 141s 1s/step - loss: 0.0306 - acc: 0.9925 - val_loss: 0.1554 - val_acc: 0.9730\n",
      "Epoch 56/100\n",
      "100/100 [==============================] - 747s 7s/step - loss: 0.0273 - acc: 0.9955 - val_loss: 0.1862 - val_acc: 0.9700\n",
      "Epoch 57/100\n",
      "100/100 [==============================] - 139s 1s/step - loss: 0.0216 - acc: 0.9930 - val_loss: 0.1814 - val_acc: 0.9720\n",
      "Epoch 58/100\n",
      "100/100 [==============================] - 139s 1s/step - loss: 0.0262 - acc: 0.9915 - val_loss: 0.2652 - val_acc: 0.9630\n",
      "Epoch 59/100\n",
      "100/100 [==============================] - 142s 1s/step - loss: 0.0197 - acc: 0.9940 - val_loss: 0.2311 - val_acc: 0.9690\n",
      "Epoch 60/100\n",
      "100/100 [==============================] - 143s 1s/step - loss: 0.0178 - acc: 0.9950 - val_loss: 0.2295 - val_acc: 0.9680\n",
      "Epoch 61/100\n",
      "100/100 [==============================] - 146s 1s/step - loss: 0.0153 - acc: 0.9955 - val_loss: 0.2107 - val_acc: 0.9700\n",
      "Epoch 62/100\n",
      "100/100 [==============================] - 147s 1s/step - loss: 0.0233 - acc: 0.9945 - val_loss: 0.2406 - val_acc: 0.9710\n",
      "Epoch 63/100\n",
      "100/100 [==============================] - 143s 1s/step - loss: 0.0173 - acc: 0.9930 - val_loss: 0.3085 - val_acc: 0.9540\n",
      "Epoch 64/100\n",
      "100/100 [==============================] - 143s 1s/step - loss: 0.0293 - acc: 0.9930 - val_loss: 0.2230 - val_acc: 0.9710\n",
      "Epoch 65/100\n",
      "100/100 [==============================] - 143s 1s/step - loss: 0.0090 - acc: 0.9985 - val_loss: 0.1956 - val_acc: 0.9710\n",
      "Epoch 66/100\n",
      "100/100 [==============================] - 144s 1s/step - loss: 0.0201 - acc: 0.9955 - val_loss: 0.2445 - val_acc: 0.9670\n",
      "Epoch 67/100\n",
      "100/100 [==============================] - 144s 1s/step - loss: 0.0283 - acc: 0.9940 - val_loss: 0.2278 - val_acc: 0.9690\n",
      "Epoch 68/100\n",
      "100/100 [==============================] - 144s 1s/step - loss: 0.0146 - acc: 0.9955 - val_loss: 0.1708 - val_acc: 0.9740\n",
      "Epoch 69/100\n",
      "100/100 [==============================] - 148s 1s/step - loss: 0.0247 - acc: 0.9950 - val_loss: 0.1607 - val_acc: 0.9750\n",
      "Epoch 70/100\n",
      "100/100 [==============================] - 144s 1s/step - loss: 0.0211 - acc: 0.9940 - val_loss: 0.1464 - val_acc: 0.9750\n",
      "Epoch 71/100\n",
      "100/100 [==============================] - 145s 1s/step - loss: 0.0213 - acc: 0.9930 - val_loss: 0.1917 - val_acc: 0.9680\n",
      "Epoch 72/100\n",
      "100/100 [==============================] - 146s 1s/step - loss: 0.0153 - acc: 0.9945 - val_loss: 0.2073 - val_acc: 0.9730\n",
      "Epoch 73/100\n",
      "100/100 [==============================] - 146s 1s/step - loss: 0.0273 - acc: 0.9945 - val_loss: 0.3133 - val_acc: 0.9640\n",
      "Epoch 74/100\n",
      "100/100 [==============================] - 146s 1s/step - loss: 0.0389 - acc: 0.9910 - val_loss: 0.1690 - val_acc: 0.9700\n",
      "Epoch 75/100\n",
      "100/100 [==============================] - 146s 1s/step - loss: 0.0164 - acc: 0.9960 - val_loss: 0.2486 - val_acc: 0.9630\n",
      "Epoch 76/100\n",
      "100/100 [==============================] - 1722s 17s/step - loss: 0.0126 - acc: 0.9965 - val_loss: 0.2828 - val_acc: 0.9680\n",
      "Epoch 77/100\n",
      "100/100 [==============================] - 6244s 62s/step - loss: 0.0290 - acc: 0.9960 - val_loss: 0.3509 - val_acc: 0.9590\n",
      "Epoch 78/100\n",
      "100/100 [==============================] - 5276s 53s/step - loss: 0.0160 - acc: 0.9970 - val_loss: 0.2673 - val_acc: 0.9700\n",
      "Epoch 79/100\n",
      "100/100 [==============================] - 145s 1s/step - loss: 0.0377 - acc: 0.9945 - val_loss: 0.2752 - val_acc: 0.9620\n",
      "Epoch 80/100\n",
      "100/100 [==============================] - 151s 2s/step - loss: 0.0459 - acc: 0.9920 - val_loss: 0.2086 - val_acc: 0.9690\n",
      "Epoch 81/100\n",
      "100/100 [==============================] - 196s 2s/step - loss: 0.0254 - acc: 0.9935 - val_loss: 0.2149 - val_acc: 0.9730\n",
      "Epoch 82/100\n",
      "100/100 [==============================] - 173s 2s/step - loss: 0.0238 - acc: 0.9955 - val_loss: 0.2299 - val_acc: 0.9690\n",
      "Epoch 83/100\n",
      "100/100 [==============================] - 210s 2s/step - loss: 0.0187 - acc: 0.9940 - val_loss: 0.1894 - val_acc: 0.9720\n",
      "Epoch 84/100\n",
      "100/100 [==============================] - 194s 2s/step - loss: 0.0284 - acc: 0.9960 - val_loss: 0.1649 - val_acc: 0.9750\n",
      "Epoch 85/100\n",
      "100/100 [==============================] - 187s 2s/step - loss: 0.0345 - acc: 0.9920 - val_loss: 0.1938 - val_acc: 0.9740\n",
      "Epoch 86/100\n",
      "100/100 [==============================] - 160s 2s/step - loss: 0.0350 - acc: 0.9915 - val_loss: 0.1973 - val_acc: 0.9670\n",
      "Epoch 87/100\n",
      "100/100 [==============================] - 145s 1s/step - loss: 0.0191 - acc: 0.9950 - val_loss: 0.1775 - val_acc: 0.9720\n",
      "Epoch 88/100\n",
      "100/100 [==============================] - 146s 1s/step - loss: 0.0359 - acc: 0.9950 - val_loss: 0.2816 - val_acc: 0.9590\n",
      "Epoch 89/100\n",
      "100/100 [==============================] - 149s 1s/step - loss: 0.0139 - acc: 0.9940 - val_loss: 0.2132 - val_acc: 0.9710\n",
      "Epoch 90/100\n",
      "100/100 [==============================] - 155s 2s/step - loss: 0.0273 - acc: 0.9950 - val_loss: 0.2122 - val_acc: 0.9680\n",
      "Epoch 91/100\n",
      "100/100 [==============================] - 146s 1s/step - loss: 0.0294 - acc: 0.9940 - val_loss: 0.2296 - val_acc: 0.9700\n",
      "Epoch 92/100\n",
      "100/100 [==============================] - 148s 1s/step - loss: 0.0246 - acc: 0.9935 - val_loss: 0.2235 - val_acc: 0.9680\n",
      "Epoch 93/100\n",
      "100/100 [==============================] - 145s 1s/step - loss: 0.0142 - acc: 0.9955 - val_loss: 0.2219 - val_acc: 0.9690\n",
      "Epoch 94/100\n",
      "100/100 [==============================] - 145s 1s/step - loss: 0.0250 - acc: 0.9925 - val_loss: 0.2273 - val_acc: 0.9650\n",
      "Epoch 95/100\n",
      "100/100 [==============================] - 146s 1s/step - loss: 0.0197 - acc: 0.9950 - val_loss: 0.2481 - val_acc: 0.9670\n",
      "Epoch 96/100\n",
      "100/100 [==============================] - 141s 1s/step - loss: 0.0274 - acc: 0.9945 - val_loss: 0.1852 - val_acc: 0.9700\n",
      "Epoch 97/100\n",
      "100/100 [==============================] - 142s 1s/step - loss: 0.0211 - acc: 0.9955 - val_loss: 0.2172 - val_acc: 0.9650\n",
      "Epoch 98/100\n",
      "100/100 [==============================] - 143s 1s/step - loss: 0.0214 - acc: 0.9935 - val_loss: 0.1842 - val_acc: 0.9720\n",
      "Epoch 99/100\n",
      "100/100 [==============================] - 141s 1s/step - loss: 0.0170 - acc: 0.9965 - val_loss: 0.2334 - val_acc: 0.9730\n",
      "Epoch 100/100\n",
      "100/100 [==============================] - 141s 1s/step - loss: 0.0327 - acc: 0.9900 - val_loss: 0.1959 - val_acc: 0.9700\n"
     ]
    }
   ],
   "source": [
    "model.compile(loss='binary_crossentropy',\n",
    "             optimizer=optimizers.RMSprop(lr=1e-5),\n",
    "             metrics=['acc'])\n",
    "history = model.fit_generator(\n",
    "    train_generator,\n",
    "    steps_per_epoch=100,\n",
    "    epochs=100,\n",
    "    validation_data=validation_generator,\n",
    "    validation_steps=50\n",
    ")"
   ]
  },
  {
   "cell_type": "markdown",
   "metadata": {},
   "source": [
    "绘图："
   ]
  },
  {
   "cell_type": "code",
   "execution_count": 6,
   "metadata": {},
   "outputs": [
    {
     "ename": "NameError",
     "evalue": "name 'history' is not defined",
     "output_type": "error",
     "traceback": [
      "\u001b[0;31m---------------------------------------------------------------------------\u001b[0m",
      "\u001b[0;31mNameError\u001b[0m                                 Traceback (most recent call last)",
      "\u001b[0;32m<ipython-input-6-a23dd6aa517e>\u001b[0m in \u001b[0;36m<module>\u001b[0;34m\u001b[0m\n\u001b[0;32m----> 1\u001b[0;31m \u001b[0macc\u001b[0m \u001b[0;34m=\u001b[0m \u001b[0mhistory\u001b[0m\u001b[0;34m.\u001b[0m\u001b[0mhistory\u001b[0m\u001b[0;34m[\u001b[0m\u001b[0;34m'acc'\u001b[0m\u001b[0;34m]\u001b[0m\u001b[0;34m\u001b[0m\u001b[0;34m\u001b[0m\u001b[0m\n\u001b[0m\u001b[1;32m      2\u001b[0m \u001b[0mval_acc\u001b[0m \u001b[0;34m=\u001b[0m \u001b[0mhistory\u001b[0m\u001b[0;34m.\u001b[0m\u001b[0mhistory\u001b[0m\u001b[0;34m[\u001b[0m\u001b[0;34m'val_acc'\u001b[0m\u001b[0;34m]\u001b[0m\u001b[0;34m\u001b[0m\u001b[0;34m\u001b[0m\u001b[0m\n\u001b[1;32m      3\u001b[0m \u001b[0mloss\u001b[0m \u001b[0;34m=\u001b[0m \u001b[0mhistory\u001b[0m\u001b[0;34m.\u001b[0m\u001b[0mhistory\u001b[0m\u001b[0;34m[\u001b[0m\u001b[0;34m'loss'\u001b[0m\u001b[0;34m]\u001b[0m\u001b[0;34m\u001b[0m\u001b[0;34m\u001b[0m\u001b[0m\n\u001b[1;32m      4\u001b[0m \u001b[0mval_loss\u001b[0m \u001b[0;34m=\u001b[0m \u001b[0mhistory\u001b[0m\u001b[0;34m.\u001b[0m\u001b[0mhistory\u001b[0m\u001b[0;34m[\u001b[0m\u001b[0;34m'val_loss'\u001b[0m\u001b[0;34m]\u001b[0m\u001b[0;34m\u001b[0m\u001b[0;34m\u001b[0m\u001b[0m\n\u001b[1;32m      5\u001b[0m \u001b[0;34m\u001b[0m\u001b[0m\n",
      "\u001b[0;31mNameError\u001b[0m: name 'history' is not defined"
     ]
    }
   ],
   "source": [
    "acc = history.history['acc']\n",
    "val_acc = history.history['val_acc']\n",
    "loss = history.history['loss']\n",
    "val_loss = history.history['val_loss']\n",
    "\n",
    "epochs = range(1, len(acc) + 1)\n",
    "\n",
    "plt.plot(epochs, acc, 'bo', label='Training Acc')\n",
    "plt.plot(epochs, val_acc, 'b', label='Validation Acc')\n",
    "plt.title('Training and Validation Accuracy')\n",
    "plt.legend()\n",
    "\n",
    "plt.figure()\n",
    "\n",
    "plt.plot(epochs, loss, 'bo', label='Training loss')\n",
    "plt.plot(epochs, val_loss, ' b', label='Validation loss')\n",
    "plt.title('Training and Validation Accuracy')\n",
    "plt.legend()\n",
    "\n",
    "plt.show()"
   ]
  },
  {
   "cell_type": "markdown",
   "metadata": {},
   "source": [
    "## 使曲线平滑化"
   ]
  },
  {
   "cell_type": "code",
   "execution_count": 5,
   "metadata": {},
   "outputs": [
    {
     "ename": "NameError",
     "evalue": "name 'epochs' is not defined",
     "output_type": "error",
     "traceback": [
      "\u001b[0;31m---------------------------------------------------------------------------\u001b[0m",
      "\u001b[0;31mNameError\u001b[0m                                 Traceback (most recent call last)",
      "\u001b[0;32m<ipython-input-5-8a0291d61f66>\u001b[0m in \u001b[0;36m<module>\u001b[0;34m\u001b[0m\n\u001b[1;32m     10\u001b[0m     \u001b[0;32mreturn\u001b[0m \u001b[0msmoothed_points\u001b[0m\u001b[0;34m\u001b[0m\u001b[0;34m\u001b[0m\u001b[0m\n\u001b[1;32m     11\u001b[0m \u001b[0;34m\u001b[0m\u001b[0m\n\u001b[0;32m---> 12\u001b[0;31m \u001b[0mplt\u001b[0m\u001b[0;34m.\u001b[0m\u001b[0mplot\u001b[0m\u001b[0;34m(\u001b[0m\u001b[0mepochs\u001b[0m\u001b[0;34m,\u001b[0m \u001b[0msmooth_curve\u001b[0m\u001b[0;34m(\u001b[0m\u001b[0macc\u001b[0m\u001b[0;34m)\u001b[0m\u001b[0;34m,\u001b[0m \u001b[0;34m'bo'\u001b[0m\u001b[0;34m,\u001b[0m \u001b[0mlabel\u001b[0m\u001b[0;34m=\u001b[0m\u001b[0;34m'Smoothed training acc'\u001b[0m\u001b[0;34m)\u001b[0m\u001b[0;34m\u001b[0m\u001b[0;34m\u001b[0m\u001b[0m\n\u001b[0m\u001b[1;32m     13\u001b[0m \u001b[0mplt\u001b[0m\u001b[0;34m.\u001b[0m\u001b[0mplot\u001b[0m\u001b[0;34m(\u001b[0m\u001b[0mepochs\u001b[0m\u001b[0;34m,\u001b[0m \u001b[0msmooth_curve\u001b[0m\u001b[0;34m(\u001b[0m\u001b[0mval_acc\u001b[0m\u001b[0;34m)\u001b[0m\u001b[0;34m,\u001b[0m \u001b[0;34m'b'\u001b[0m\u001b[0;34m,\u001b[0m \u001b[0mlabel\u001b[0m\u001b[0;34m=\u001b[0m\u001b[0;34m'Smoothed validation acc'\u001b[0m\u001b[0;34m)\u001b[0m\u001b[0;34m\u001b[0m\u001b[0;34m\u001b[0m\u001b[0m\n\u001b[1;32m     14\u001b[0m \u001b[0mplt\u001b[0m\u001b[0;34m.\u001b[0m\u001b[0mlegend\u001b[0m\u001b[0;34m(\u001b[0m\u001b[0;34m)\u001b[0m\u001b[0;34m\u001b[0m\u001b[0;34m\u001b[0m\u001b[0m\n",
      "\u001b[0;31mNameError\u001b[0m: name 'epochs' is not defined"
     ]
    }
   ],
   "source": [
    "import matplotlib.pyplot as plt\n",
    "def smooth_curve(points, factor=0.8):\n",
    "    smoothed_points = []\n",
    "    for point in points:\n",
    "        if smoothed_points:\n",
    "            previous = smoothed_points[-1]\n",
    "            smoothed_points.append(previous * factor + point * (1- factor))\n",
    "        else:\n",
    "            smoothed_points.append(point)\n",
    "    return smoothed_points\n",
    "\n",
    "plt.plot(epochs, smooth_curve(acc), 'bo', label='Smoothed training acc')\n",
    "plt.plot(epochs, smooth_curve(val_acc), 'b', label='Smoothed validation acc')\n",
    "plt.legend()\n",
    "\n",
    "plt.figure()\n",
    "\n",
    "plt.plot(epochs, smooth_curve(loss), 'bo', label='Smoothed train loss')\n",
    "plt.plot(epochs, smooth_curve(val_loss), 'b', label='Smoothed validation loss')\n",
    "plt.legend()\n",
    "\n",
    "plt.show()"
   ]
  },
  {
   "cell_type": "code",
   "execution_count": null,
   "metadata": {},
   "outputs": [],
   "source": []
  }
 ],
 "metadata": {
  "kernelspec": {
   "display_name": "Python 3",
   "language": "python",
   "name": "python3"
  },
  "language_info": {
   "codemirror_mode": {
    "name": "ipython",
    "version": 3
   },
   "file_extension": ".py",
   "mimetype": "text/x-python",
   "name": "python",
   "nbconvert_exporter": "python",
   "pygments_lexer": "ipython3",
   "version": "3.7.7"
  }
 },
 "nbformat": 4,
 "nbformat_minor": 2
}
