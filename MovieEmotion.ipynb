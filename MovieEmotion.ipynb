{
 "cells": [
  {
   "cell_type": "code",
   "execution_count": 1,
   "metadata": {},
   "outputs": [
    {
     "name": "stderr",
     "output_type": "stream",
     "text": [
      "Using TensorFlow backend.\n"
     ]
    }
   ],
   "source": [
    "from keras.datasets import imdb\n",
    "imdb.allow_pickle = True\n",
    "(train_data, train_labels), (test_data, test_labels) = imdb.load_data(num_words=10000)\n",
    "# 仅保留前 1W 的单词"
   ]
  },
  {
   "cell_type": "code",
   "execution_count": 2,
   "metadata": {},
   "outputs": [
    {
     "data": {
      "text/plain": [
       "[1,\n",
       " 4,\n",
       " 65,\n",
       " 347,\n",
       " 16,\n",
       " 55,\n",
       " 730,\n",
       " 930,\n",
       " 5,\n",
       " 776,\n",
       " 8,\n",
       " 794,\n",
       " 5,\n",
       " 3887,\n",
       " 6,\n",
       " 176,\n",
       " 7,\n",
       " 57,\n",
       " 2,\n",
       " 212,\n",
       " 8,\n",
       " 6,\n",
       " 213,\n",
       " 121,\n",
       " 12,\n",
       " 43,\n",
       " 188,\n",
       " 357,\n",
       " 49,\n",
       " 7,\n",
       " 4,\n",
       " 311,\n",
       " 468,\n",
       " 8,\n",
       " 169,\n",
       " 12,\n",
       " 163,\n",
       " 21,\n",
       " 13,\n",
       " 40,\n",
       " 53,\n",
       " 1089,\n",
       " 486,\n",
       " 10,\n",
       " 10,\n",
       " 50,\n",
       " 71,\n",
       " 450,\n",
       " 573,\n",
       " 3923,\n",
       " 156,\n",
       " 11,\n",
       " 4,\n",
       " 20,\n",
       " 5,\n",
       " 68,\n",
       " 239,\n",
       " 71,\n",
       " 542,\n",
       " 1069,\n",
       " 4,\n",
       " 229,\n",
       " 4571,\n",
       " 2,\n",
       " 16,\n",
       " 52,\n",
       " 267,\n",
       " 17,\n",
       " 210,\n",
       " 10,\n",
       " 10,\n",
       " 13,\n",
       " 92,\n",
       " 377,\n",
       " 4,\n",
       " 204,\n",
       " 20,\n",
       " 38,\n",
       " 13,\n",
       " 191,\n",
       " 135,\n",
       " 48,\n",
       " 45,\n",
       " 128,\n",
       " 42,\n",
       " 433,\n",
       " 10,\n",
       " 10,\n",
       " 48,\n",
       " 25,\n",
       " 358,\n",
       " 102,\n",
       " 40,\n",
       " 2,\n",
       " 14,\n",
       " 20,\n",
       " 238,\n",
       " 30,\n",
       " 290,\n",
       " 656,\n",
       " 6,\n",
       " 168,\n",
       " 33]"
      ]
     },
     "execution_count": 2,
     "metadata": {},
     "output_type": "execute_result"
    }
   ],
   "source": [
    "train_data[0]"
   ]
  },
  {
   "cell_type": "code",
   "execution_count": 4,
   "metadata": {},
   "outputs": [
    {
     "data": {
      "text/plain": [
       "0"
      ]
     },
     "execution_count": 4,
     "metadata": {},
     "output_type": "execute_result"
    }
   ],
   "source": [
    "train_labels[0]"
   ]
  },
  {
   "cell_type": "markdown",
   "metadata": {},
   "source": [
    "### 限定了前10000个常见的词，所有的单词的索引都不超过10000。"
   ]
  },
  {
   "cell_type": "code",
   "execution_count": 5,
   "metadata": {},
   "outputs": [
    {
     "data": {
      "text/plain": [
       "9999"
      ]
     },
     "execution_count": 5,
     "metadata": {},
     "output_type": "execute_result"
    }
   ],
   "source": [
    "max([max(sequence) for sequence in train_data])"
   ]
  },
  {
   "cell_type": "markdown",
   "metadata": {},
   "source": [
    " 可以将评论转换成对应的英文原文：\n",
    " * 其中索引0，1，2的字符都是特殊字符"
   ]
  },
  {
   "cell_type": "code",
   "execution_count": 9,
   "metadata": {},
   "outputs": [
    {
     "name": "stdout",
     "output_type": "stream",
     "text": [
      "? the story line was very straight forward and easy to follow and contained a lot of no ? comedy to a point where it just got boring some of the audience seemed to find it funny but i like more intelligent humor br br there were several known swedish actors in the movie and their performance were decent considering the script lena ? was good looking as always br br i don't remember the original movie so i can't say if it's better or worse br br if you enjoy movies like ? this movie might be worth taking a look at\n"
     ]
    }
   ],
   "source": [
    "word_index = imdb.get_word_index()\n",
    "reverse_word_index = dict(\n",
    "    [(value, key) for [key, value] in word_index.items()])\n",
    "decoded_review = ' '.join([reverse_word_index.get(i-3, '?') for i in train_data[0]])\n",
    "print(decoded_review)"
   ]
  },
  {
   "cell_type": "code",
   "execution_count": 13,
   "metadata": {},
   "outputs": [],
   "source": [
    "import numpy as np\n",
    "\n",
    "def vectorize_sequences(sequences, dimension=10000):\n",
    "    results = np.zeros((len(sequences), dimension))\n",
    "    for i, sequence in enumerate(sequences):\n",
    "        results[i, sequence] = 1.\n",
    "    return results\n",
    "# 数据向量化\n",
    "x_train = vectorize_sequences(train_data)\n",
    "x_test = vectorize_sequences(test_data)\n",
    "# 标签向量化\n",
    "y_train = np.asarray(train_labels).astype('float32')\n",
    "y_test = np.asarray(test_labels).astype('float32')"
   ]
  },
  {
   "cell_type": "code",
   "execution_count": 12,
   "metadata": {},
   "outputs": [
    {
     "data": {
      "text/plain": [
       "array([0., 1., 1., ..., 0., 0., 0.])"
      ]
     },
     "execution_count": 12,
     "metadata": {},
     "output_type": "execute_result"
    }
   ],
   "source": [
    "x_train[0]"
   ]
  },
  {
   "cell_type": "code",
   "execution_count": 15,
   "metadata": {},
   "outputs": [
    {
     "data": {
      "text/plain": [
       "array([0., 0., 0., ..., 1., 0., 0.], dtype=float32)"
      ]
     },
     "execution_count": 15,
     "metadata": {},
     "output_type": "execute_result"
    }
   ],
   "source": [
    "y_train"
   ]
  },
  {
   "cell_type": "code",
   "execution_count": 17,
   "metadata": {},
   "outputs": [
    {
     "data": {
      "text/plain": [
       "10000"
      ]
     },
     "execution_count": 17,
     "metadata": {},
     "output_type": "execute_result"
    }
   ],
   "source": [
    "len(x_train[0])"
   ]
  },
  {
   "cell_type": "markdown",
   "metadata": {},
   "source": [
    "实现一个 Dense 层的网络架构，包括以下层次：\n",
    "* 2个中间层，每层有16个隐藏单元，使用relu激活函数\n",
    "* 第3层 sigmod 输出一个标量，预测当前的情感"
   ]
  },
  {
   "cell_type": "code",
   "execution_count": 19,
   "metadata": {},
   "outputs": [],
   "source": [
    "from keras import models\n",
    "from keras import layers\n",
    "\n",
    "model = models.Sequential()\n",
    "model.add(layers.Dense(16, activation='relu', input_shape=(10000,)))\n",
    "model.add(layers.Dense(16, activation='relu'))\n",
    "model.add(layers.Dense(1, activation='sigmoid'))\n"
   ]
  },
  {
   "cell_type": "code",
   "execution_count": 21,
   "metadata": {},
   "outputs": [
    {
     "name": "stdout",
     "output_type": "stream",
     "text": [
      "WARNING:tensorflow:From /usr/local/lib/python3.7/site-packages/keras/backend/tensorflow_backend.py:2921: The name tf.log is deprecated. Please use tf.math.log instead.\n",
      "\n",
      "WARNING:tensorflow:From /usr/local/lib/python3.7/site-packages/tensorflow_core/python/ops/nn_impl.py:183: where (from tensorflow.python.ops.array_ops) is deprecated and will be removed in a future version.\n",
      "Instructions for updating:\n",
      "Use tf.where in 2.0, which has the same broadcast rule as np.where\n"
     ]
    }
   ],
   "source": [
    "model.compile(optimizer='rmsprop',\n",
    "             loss='binary_crossentropy',\n",
    "             metrics=['accuracy'])"
   ]
  },
  {
   "cell_type": "markdown",
   "metadata": {},
   "source": [
    "需要将数据留1w个作为验证集"
   ]
  },
  {
   "cell_type": "code",
   "execution_count": 22,
   "metadata": {},
   "outputs": [],
   "source": [
    "x_val = x_train[:10000]\n",
    "partial_x_train = x_train[10000:]\n",
    "\n",
    "y_val = y_train[:10000]\n",
    "partial_y_train = y_train[10000:]"
   ]
  },
  {
   "cell_type": "markdown",
   "metadata": {},
   "source": [
    "分成512个样本的批次，训练20轮，并在留出的 1W 样本上验证精确度。"
   ]
  },
  {
   "cell_type": "code",
   "execution_count": 23,
   "metadata": {},
   "outputs": [
    {
     "name": "stdout",
     "output_type": "stream",
     "text": [
      "WARNING:tensorflow:From /usr/local/lib/python3.7/site-packages/keras/backend/tensorflow_backend.py:671: calling Constant.__init__ (from tensorflow.python.ops.init_ops) with dtype is deprecated and will be removed in a future version.\n",
      "Instructions for updating:\n",
      "Call initializer instance with the dtype argument instead of passing it to the constructor\n",
      "WARNING:tensorflow:From /usr/local/lib/python3.7/site-packages/keras/backend/tensorflow_backend.py:949: The name tf.assign_add is deprecated. Please use tf.compat.v1.assign_add instead.\n",
      "\n",
      "WARNING:tensorflow:From /usr/local/lib/python3.7/site-packages/keras/backend/tensorflow_backend.py:936: The name tf.assign is deprecated. Please use tf.compat.v1.assign instead.\n",
      "\n",
      "WARNING:tensorflow:From /usr/local/lib/python3.7/site-packages/keras/backend/tensorflow_backend.py:2353: The name tf.Session is deprecated. Please use tf.compat.v1.Session instead.\n",
      "\n",
      "Train on 15000 samples, validate on 10000 samples\n",
      "Epoch 1/20\n",
      "WARNING:tensorflow:From /usr/local/lib/python3.7/site-packages/keras/backend/tensorflow_backend.py:158: The name tf.get_default_session is deprecated. Please use tf.compat.v1.get_default_session instead.\n",
      "\n",
      "WARNING:tensorflow:From /usr/local/lib/python3.7/site-packages/keras/backend/tensorflow_backend.py:163: The name tf.ConfigProto is deprecated. Please use tf.compat.v1.ConfigProto instead.\n",
      "\n",
      "WARNING:tensorflow:From /usr/local/lib/python3.7/site-packages/keras/backend/tensorflow_backend.py:172: The name tf.global_variables is deprecated. Please use tf.compat.v1.global_variables instead.\n",
      "\n",
      "WARNING:tensorflow:From /usr/local/lib/python3.7/site-packages/keras/backend/tensorflow_backend.py:180: The name tf.is_variable_initialized is deprecated. Please use tf.compat.v1.is_variable_initialized instead.\n",
      "\n",
      "WARNING:tensorflow:From /usr/local/lib/python3.7/site-packages/keras/backend/tensorflow_backend.py:187: The name tf.variables_initializer is deprecated. Please use tf.compat.v1.variables_initializer instead.\n",
      "\n",
      "15000/15000 [==============================] - 4s 288us/step - loss: 0.5105 - acc: 0.7841 - val_loss: 0.4131 - val_acc: 0.8348\n",
      "Epoch 2/20\n",
      "15000/15000 [==============================] - 2s 146us/step - loss: 0.3046 - acc: 0.9009 - val_loss: 0.3092 - val_acc: 0.8873\n",
      "Epoch 3/20\n",
      "15000/15000 [==============================] - 2s 143us/step - loss: 0.2254 - acc: 0.9286 - val_loss: 0.2878 - val_acc: 0.8906\n",
      "Epoch 4/20\n",
      "15000/15000 [==============================] - 2s 142us/step - loss: 0.1782 - acc: 0.9437 - val_loss: 0.2806 - val_acc: 0.8911\n",
      "Epoch 5/20\n",
      "15000/15000 [==============================] - 2s 141us/step - loss: 0.1447 - acc: 0.9566 - val_loss: 0.3046 - val_acc: 0.8825\n",
      "Epoch 6/20\n",
      "15000/15000 [==============================] - 2s 142us/step - loss: 0.1189 - acc: 0.9637 - val_loss: 0.3001 - val_acc: 0.8850\n",
      "Epoch 7/20\n",
      "15000/15000 [==============================] - 2s 144us/step - loss: 0.0988 - acc: 0.9711 - val_loss: 0.3333 - val_acc: 0.8780\n",
      "Epoch 8/20\n",
      "15000/15000 [==============================] - 2s 139us/step - loss: 0.0816 - acc: 0.9786 - val_loss: 0.3489 - val_acc: 0.8769\n",
      "Epoch 9/20\n",
      "15000/15000 [==============================] - 2s 140us/step - loss: 0.0667 - acc: 0.9829 - val_loss: 0.3861 - val_acc: 0.8737\n",
      "Epoch 10/20\n",
      "15000/15000 [==============================] - 2s 144us/step - loss: 0.0543 - acc: 0.9863 - val_loss: 0.3899 - val_acc: 0.8764\n",
      "Epoch 11/20\n",
      "15000/15000 [==============================] - 2s 149us/step - loss: 0.0444 - acc: 0.9900 - val_loss: 0.4162 - val_acc: 0.8751\n",
      "Epoch 12/20\n",
      "15000/15000 [==============================] - 2s 145us/step - loss: 0.0351 - acc: 0.9925 - val_loss: 0.4526 - val_acc: 0.8719\n",
      "Epoch 13/20\n",
      "15000/15000 [==============================] - 2s 141us/step - loss: 0.0274 - acc: 0.9954 - val_loss: 0.5033 - val_acc: 0.8645\n",
      "Epoch 14/20\n",
      "15000/15000 [==============================] - 2s 144us/step - loss: 0.0214 - acc: 0.9968 - val_loss: 0.5148 - val_acc: 0.8705\n",
      "Epoch 15/20\n",
      "15000/15000 [==============================] - 2s 140us/step - loss: 0.0188 - acc: 0.9959 - val_loss: 0.5474 - val_acc: 0.8697\n",
      "Epoch 16/20\n",
      "15000/15000 [==============================] - 2s 141us/step - loss: 0.0128 - acc: 0.9981 - val_loss: 0.5773 - val_acc: 0.8694\n",
      "Epoch 17/20\n",
      "15000/15000 [==============================] - 2s 145us/step - loss: 0.0103 - acc: 0.9987 - val_loss: 0.6104 - val_acc: 0.8672\n",
      "Epoch 18/20\n",
      "15000/15000 [==============================] - 2s 150us/step - loss: 0.0089 - acc: 0.9985 - val_loss: 0.6430 - val_acc: 0.8653\n",
      "Epoch 19/20\n",
      "15000/15000 [==============================] - 2s 148us/step - loss: 0.0045 - acc: 0.9999 - val_loss: 0.6794 - val_acc: 0.8645\n",
      "Epoch 20/20\n",
      "15000/15000 [==============================] - 2s 141us/step - loss: 0.0062 - acc: 0.9991 - val_loss: 0.7013 - val_acc: 0.8647\n"
     ]
    }
   ],
   "source": [
    "history = model.fit(partial_x_train,\n",
    "                   partial_y_train,\n",
    "                   epochs=20,\n",
    "                   batch_size=512,\n",
    "                   validation_data=(x_val, y_val))"
   ]
  },
  {
   "cell_type": "markdown",
   "metadata": {},
   "source": [
    "fit函数会返回一个训练过程的记录：history对象。"
   ]
  },
  {
   "cell_type": "code",
   "execution_count": 25,
   "metadata": {},
   "outputs": [
    {
     "data": {
      "text/plain": [
       "dict_keys(['val_loss', 'val_acc', 'loss', 'acc'])"
      ]
     },
     "execution_count": 25,
     "metadata": {},
     "output_type": "execute_result"
    }
   ],
   "source": [
    "history_dict = history.history\n",
    "history_dict.keys()"
   ]
  },
  {
   "cell_type": "markdown",
   "metadata": {},
   "source": [
    "画出训练损失&验证损失图："
   ]
  },
  {
   "cell_type": "code",
   "execution_count": 26,
   "metadata": {},
   "outputs": [
    {
     "data": {
      "image/png": "[encoded data removed]",
      "text/plain": [
       "<Figure size 432x288 with 1 Axes>"
      ]
     },
     "metadata": {
      "needs_background": "light"
     },
     "output_type": "display_data"
    }
   ],
   "source": [
    "import matplotlib.pyplot as plt\n",
    "\n",
    "loss_values = history_dict['loss']\n",
    "val_loss_values = history_dict['val_loss']\n",
    "\n",
    "epochs = range(1, len(loss_values) + 1)\n",
    "\n",
    "plt.plot(epochs, loss_values, 'bo', label='Training Loss')\n",
    "plt.plot(epochs, val_loss_values, 'b', label='Validation Loss')\n",
    "plt.title('Training and Validation loss')\n",
    "plt.xlabel('Epochs')\n",
    "plt.ylabel('Loss')\n",
    "plt.legend()\n",
    "\n",
    "plt.show()"
   ]
  },
  {
   "cell_type": "markdown",
   "metadata": {},
   "source": [
    "画出训练精度和验证精度图形："
   ]
  },
  {
   "cell_type": "code",
   "execution_count": 27,
   "metadata": {},
   "outputs": [
    {
     "data": {
      "image/png": "[encoded data removed]",
      "text/plain": [
       "<Figure size 432x288 with 1 Axes>"
      ]
     },
     "metadata": {
      "needs_background": "light"
     },
     "output_type": "display_data"
    }
   ],
   "source": [
    "acc = history_dict['acc']\n",
    "val_acc = history_dict['val_acc']\n",
    "\n",
    "plt.plot(epochs, acc, 'bo', label='Training acc')\n",
    "plt.plot(epochs, val_acc, 'b', label='Validation acc')\n",
    "plt.title('Training and Validation accuracy')\n",
    "plt.xlabel('Epochs')\n",
    "plt.ylabel('Accuracy')\n",
    "plt.legend()\n",
    "\n",
    "plt.show()"
   ]
  },
  {
   "cell_type": "markdown",
   "metadata": {},
   "source": [
    "效果并不是越来越好，后续都过拟合了，将轮数下降到4轮："
   ]
  },
  {
   "cell_type": "code",
   "execution_count": 35,
   "metadata": {},
   "outputs": [
    {
     "name": "stdout",
     "output_type": "stream",
     "text": [
      "Train on 25000 samples, validate on 10000 samples\n",
      "Epoch 1/4\n",
      "25000/25000 [==============================] - 3s 118us/step - loss: 0.0229 - acc: 0.9950 - val_loss: 0.0286 - val_acc: 0.9944\n",
      "Epoch 2/4\n",
      "25000/25000 [==============================] - 3s 117us/step - loss: 0.0190 - acc: 0.9960 - val_loss: 0.0227 - val_acc: 0.9970\n",
      "Epoch 3/4\n",
      "25000/25000 [==============================] - 3s 117us/step - loss: 0.0122 - acc: 0.9984 - val_loss: 0.0176 - val_acc: 0.9980\n",
      "Epoch 4/4\n",
      "25000/25000 [==============================] - 3s 117us/step - loss: 0.0105 - acc: 0.9985 - val_loss: 0.0149 - val_acc: 0.9984\n",
      "25000/25000 [==============================] - 1s 45us/step\n"
     ]
    }
   ],
   "source": [
    "history = model.fit(x_train, y_train, epochs=4, batch_size=512, validation_data=(x_val, y_val))\n",
    "results = model.evaluate(x_test, y_test)"
   ]
  },
  {
   "cell_type": "code",
   "execution_count": 38,
   "metadata": {},
   "outputs": [
    {
     "data": {
      "text/plain": [
       "[0.8913023912119865, 0.8514]"
      ]
     },
     "execution_count": 38,
     "metadata": {},
     "output_type": "execute_result"
    }
   ],
   "source": [
    "history_dict = history.history\n",
    "results"
   ]
  },
  {
   "cell_type": "code",
   "execution_count": 39,
   "metadata": {},
   "outputs": [
    {
     "data": {
      "image/png": "[encoded data removed]",
      "text/plain": [
       "<Figure size 432x288 with 1 Axes>"
      ]
     },
     "metadata": {
      "needs_background": "light"
     },
     "output_type": "display_data"
    }
   ],
   "source": [
    "loss_values = history_dict['loss']\n",
    "val_loss_values = history_dict['val_loss']\n",
    "\n",
    "epochs = range(1, len(loss_values) + 1)\n",
    "\n",
    "plt.plot(epochs, loss_values, 'bo', label='Training Loss')\n",
    "plt.plot(epochs, val_loss_values, 'b', label='Validation Loss')\n",
    "plt.title('Training and Validation loss')\n",
    "plt.xlabel('Epochs')\n",
    "plt.ylabel('Loss')\n",
    "plt.legend()\n",
    "\n",
    "plt.show()"
   ]
  },
  {
   "cell_type": "code",
   "execution_count": 40,
   "metadata": {},
   "outputs": [
    {
     "data": {
      "image/png": "[encoded data removed]",
      "text/plain": [
       "<Figure size 432x288 with 1 Axes>"
      ]
     },
     "metadata": {
      "needs_background": "light"
     },
     "output_type": "display_data"
    }
   ],
   "source": [
    "acc = history_dict['acc']\n",
    "val_acc = history_dict['val_acc']\n",
    "\n",
    "plt.plot(epochs, acc, 'bo', label='Training acc')\n",
    "plt.plot(epochs, val_acc, 'b', label='Validation acc')\n",
    "plt.title('Training and Validation accuracy')\n",
    "plt.xlabel('Epochs')\n",
    "plt.ylabel('Accuracy')\n",
    "plt.legend()\n",
    "\n",
    "plt.show()"
   ]
  },
  {
   "cell_type": "markdown",
   "metadata": {},
   "source": [
    "## 从上述结果可以看到训练结果：85.8%精确度"
   ]
  },
  {
   "cell_type": "code",
   "execution_count": 43,
   "metadata": {},
   "outputs": [
    {
     "name": "stdout",
     "output_type": "stream",
     "text": [
      "sure:78.56%\n",
      "not sure:21.44%\n"
     ]
    }
   ],
   "source": [
    "predict_data = model.predict(x_test)\n",
    "sure_count = 0\n",
    "not_sure_count = 0\n",
    "for i in predict_data:\n",
    "    if i < 0.01 or i > 0.99:\n",
    "        sure_count += 1\n",
    "    else:\n",
    "        not_sure_count += 1\n",
    "print('sure:' + str(sure_count / len(predict_data) * 100 ) + '%')\n",
    "print('not sure:' + str(not_sure_count / len(predict_data) * 100 ) + '%')"
   ]
  },
  {
   "cell_type": "markdown",
   "metadata": {},
   "source": [
    "可以看出，对部分结果比较确定：大于0.99或小于0.01，但是部分又不确定。78%的确定（大于0.99或小于0.01），21%不确定。"
   ]
  }
 ],
 "metadata": {
  "kernelspec": {
   "display_name": "Python 3",
   "language": "python",
   "name": "python3"
  },
  "language_info": {
   "codemirror_mode": {
    "name": "ipython",
    "version": 3
   },
   "file_extension": ".py",
   "mimetype": "text/x-python",
   "name": "python",
   "nbconvert_exporter": "python",
   "pygments_lexer": "ipython3",
   "version": "3.8.5"
  }
 },
 "nbformat": 4,
 "nbformat_minor": 2
}
