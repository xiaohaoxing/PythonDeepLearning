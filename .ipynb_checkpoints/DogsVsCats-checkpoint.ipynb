{
 "cells": [
  {
   "cell_type": "markdown",
   "metadata": {},
   "source": [
    "# Dogs vs Cats 识别\n",
    "\n",
    "\n",
    "## 使用 Kaggle 的数据集\n",
    "\n",
    "**原始数据：**\n",
    "\n",
    " * 12500 dogs + 12500 cats 训练集\n",
    " \n",
    " * 12500 未标识测试集\n",
    " \n",
    "**转换：**\n",
    "\n",
    " * 1000 dogs + 1000 cats 训练集\n",
    " * 1000 dogs + 1000 cats 验证集\n",
    " * 500 dogs + 500 cats 测试集\n"
   ]
  },
  {
   "cell_type": "code",
   "execution_count": 1,
   "metadata": {},
   "outputs": [],
   "source": [
    "import os, shutil\n",
    "\n",
    "# 创建相关的路径\n",
    "original_dataset_dir = '/Users/haoxingxiao/academic/data/dogs-vs-cats/train'\n",
    "base_dir = '/Users/haoxingxiao/academic/data/dogs-vs-cats/small'\n",
    "\n",
    "train_dir = os.path.join(base_dir, 'train')\n",
    "validation_dir = os.path.join(base_dir, 'validation')\n",
    "test_dir = os.path.join(base_dir, 'test')\n",
    "\n",
    "train_cats_dir = os.path.join(train_dir, 'cats')\n",
    "train_dogs_dir = os.path.join(train_dir, 'dogs')\n",
    "validation_cats_dir = os.path.join(validation_dir, 'cats')\n",
    "validation_dogs_dir  = os.path.join(validation_dir, 'dogs')\n",
    "test_cats_dir = os.path.join(test_dir, 'cats')\n",
    "test_dogs_dir = os.path.join(test_dir, 'dogs')\n",
    "\n",
    "# 猫测试集\n",
    "fnames = ['cat.{}.jpg'.format(i) for i in range(1000)]\n",
    "for fname in fnames:\n",
    "    src = os.path.join(original_dataset_dir, fname)\n",
    "    dst = os.path.join(train_cats_dir, fname)\n",
    "    shutil.copyfile(src, dst)\n",
    "\n",
    "# 猫验证集\n",
    "fnames = ['cat.{}.jpg'.format(i) for i in range(1000, 1500)]\n",
    "for fname in fnames:\n",
    "    src = os.path.join(original_dataset_dir, fname)\n",
    "    dst = os.path.join(validation_cats_dir, fname)\n",
    "    shutil.copyfile(src, dst)\n",
    "    \n",
    "# 猫测试集\n",
    "fnames = ['cat.{}.jpg'.format(i) for i in range(1500, 2000)]\n",
    "for fname in fnames:\n",
    "    src = os.path.join(original_dataset_dir, fname)\n",
    "    dst = os.path.join(test_cats_dir, fname)\n",
    "    shutil.copyfile(src, dst)\n",
    "    \n",
    "# 狗测试集\n",
    "fnames = ['dog.{}.jpg'.format(i) for i in range(1000)]\n",
    "for fname in fnames:\n",
    "    src = os.path.join(original_dataset_dir, fname)\n",
    "    dst = os.path.join(train_dogs_dir, fname)\n",
    "    shutil.copyfile(src, dst)\n",
    "\n",
    "# 狗验证集\n",
    "fnames = ['dog.{}.jpg'.format(i) for i in range(1000, 1500)]\n",
    "for fname in fnames:\n",
    "    src = os.path.join(original_dataset_dir, fname)\n",
    "    dst = os.path.join(validation_dogs_dir, fname)\n",
    "    shutil.copyfile(src, dst)\n",
    "    \n",
    "# 狗测试集\n",
    "fnames = ['dog.{}.jpg'.format(i) for i in range(1500, 2000)]\n",
    "for fname in fnames:\n",
    "    src = os.path.join(original_dataset_dir, fname)\n",
    "    dst = os.path.join(test_dogs_dir, fname)\n",
    "    shutil.copyfile(src, dst)\n"
   ]
  },
  {
   "cell_type": "code",
   "execution_count": 2,
   "metadata": {},
   "outputs": [
    {
     "name": "stdout",
     "output_type": "stream",
     "text": [
      "total training cat images: 1000\n",
      "total training dog images: 1000\n",
      "total validation cat images: 500\n",
      "total validation dog images: 500\n",
      "total test cat images: 500\n",
      "total test dog images: 500\n"
     ]
    }
   ],
   "source": [
    "print('total training cat images:', len(os.listdir(train_cats_dir)))\n",
    "print('total training dog images:', len(os.listdir(train_dogs_dir)))\n",
    "print('total validation cat images:', len(os.listdir(validation_cats_dir)))\n",
    "print('total validation dog images:', len(os.listdir(validation_dogs_dir)))\n",
    "print('total test cat images:', len(os.listdir(test_cats_dir)))\n",
    "print('total test dog images:', len(os.listdir(test_dogs_dir)))"
   ]
  },
  {
   "cell_type": "markdown",
   "metadata": {},
   "source": [
    "已经构建好了数据集。\n",
    "回忆MNIST数据集上的训练，这里复用：使用卷积层 Conv2D + relu 激活和 maxPooling2D 层交替。\n",
    "这里设定：输入 150*150， 输出到 Flatten 层是 7*7。\n",
    "\n",
    "**卷积神经网络模式的特点：深度不断增加，特征的尺寸逐渐减少**"
   ]
  },
  {
   "cell_type": "code",
   "execution_count": 14,
   "metadata": {},
   "outputs": [],
   "source": [
    "from keras import layers\n",
    "from keras import models\n",
    "\n",
    "model = models.Sequential()\n",
    "model.add(layers.Conv2D(32, (3, 3), activation='relu', input_shape=(150, 150, 3)))\n",
    "model.add(layers.MaxPooling2D((2, 2)))\n",
    "model.add(layers.Conv2D(64, (3, 3), activation='relu'))\n",
    "model.add(layers.MaxPooling2D((2, 2)))\n",
    "model.add(layers.Conv2D(128, (3, 3), activation='relu'))\n",
    "model.add(layers.MaxPooling2D((2, 2)))\n",
    "model.add(layers.Conv2D(128, (3, 3), activation='relu'))\n",
    "model.add(layers.MaxPooling2D((2, 2)))\n",
    "model.add(layers.Flatten())\n",
    "model.add(layers.Dense(512, activation='relu'))\n",
    "model.add(layers.Dense(1, activation='sigmoid'))"
   ]
  },
  {
   "cell_type": "markdown",
   "metadata": {},
   "source": [
    "看一下模型的变化："
   ]
  },
  {
   "cell_type": "code",
   "execution_count": 15,
   "metadata": {},
   "outputs": [
    {
     "name": "stdout",
     "output_type": "stream",
     "text": [
      "_________________________________________________________________\n",
      "Layer (type)                 Output Shape              Param #   \n",
      "=================================================================\n",
      "conv2d_7 (Conv2D)            (None, 148, 148, 32)      896       \n",
      "_________________________________________________________________\n",
      "max_pooling2d_6 (MaxPooling2 (None, 74, 74, 32)        0         \n",
      "_________________________________________________________________\n",
      "conv2d_8 (Conv2D)            (None, 72, 72, 64)        18496     \n",
      "_________________________________________________________________\n",
      "max_pooling2d_7 (MaxPooling2 (None, 36, 36, 64)        0         \n",
      "_________________________________________________________________\n",
      "conv2d_9 (Conv2D)            (None, 34, 34, 128)       73856     \n",
      "_________________________________________________________________\n",
      "max_pooling2d_8 (MaxPooling2 (None, 17, 17, 128)       0         \n",
      "_________________________________________________________________\n",
      "conv2d_10 (Conv2D)           (None, 15, 15, 128)       147584    \n",
      "_________________________________________________________________\n",
      "max_pooling2d_9 (MaxPooling2 (None, 7, 7, 128)         0         \n",
      "_________________________________________________________________\n",
      "flatten_2 (Flatten)          (None, 6272)              0         \n",
      "_________________________________________________________________\n",
      "dense_3 (Dense)              (None, 512)               3211776   \n",
      "_________________________________________________________________\n",
      "dense_4 (Dense)              (None, 1)                 513       \n",
      "=================================================================\n",
      "Total params: 3,453,121\n",
      "Trainable params: 3,453,121\n",
      "Non-trainable params: 0\n",
      "_________________________________________________________________\n"
     ]
    }
   ],
   "source": [
    "model.summary()"
   ]
  },
  {
   "cell_type": "markdown",
   "metadata": {},
   "source": [
    "配置网络用于训练："
   ]
  },
  {
   "cell_type": "code",
   "execution_count": 16,
   "metadata": {},
   "outputs": [],
   "source": [
    "from keras import optimizers\n",
    "\n",
    "model.compile(loss='binary_crossentropy',\n",
    "             optimizer=optimizers.RMSprop(lr=1e-4),\n",
    "             metrics=['acc'])"
   ]
  },
  {
   "cell_type": "markdown",
   "metadata": {},
   "source": [
    "## 图像预处理\n",
    "\n",
    "需要将150*150的图像转换成\\[0, 0\\]区间内的张量。Keras有对应的图像处理库。"
   ]
  },
  {
   "cell_type": "code",
   "execution_count": 17,
   "metadata": {},
   "outputs": [
    {
     "name": "stdout",
     "output_type": "stream",
     "text": [
      "Found 2000 images belonging to 2 classes.\n",
      "Found 1000 images belonging to 2 classes.\n"
     ]
    }
   ],
   "source": [
    "from keras.preprocessing.image import ImageDataGenerator\n",
    "\n",
    "train_datagen = ImageDataGenerator(rescale = 1./255)\n",
    "test_datagen = ImageDataGenerator(rescale=1./255)\n",
    "\n",
    "train_generator = train_datagen.flow_from_directory(\n",
    "    train_dir,\n",
    "    target_size=(150, 150),\n",
    "    batch_size=20,\n",
    "    class_mode='binary')\n",
    "\n",
    "validation_generator = test_datagen.flow_from_directory(\n",
    "    validation_dir,\n",
    "    target_size=(150, 150),\n",
    "    batch_size=20,\n",
    "    class_mode='binary')"
   ]
  },
  {
   "cell_type": "markdown",
   "metadata": {},
   "source": [
    "> 这里获得的是生成器结果，Keras提供了对这种输入类型的支持。每次会输出20个样本，因此需要提供batch_number作为终止输入的时刻。"
   ]
  },
  {
   "cell_type": "code",
   "execution_count": 18,
   "metadata": {},
   "outputs": [
    {
     "name": "stdout",
     "output_type": "stream",
     "text": [
      "_________________________________________________________________\n",
      "Layer (type)                 Output Shape              Param #   \n",
      "=================================================================\n",
      "conv2d_7 (Conv2D)            (None, 148, 148, 32)      896       \n",
      "_________________________________________________________________\n",
      "max_pooling2d_6 (MaxPooling2 (None, 74, 74, 32)        0         \n",
      "_________________________________________________________________\n",
      "conv2d_8 (Conv2D)            (None, 72, 72, 64)        18496     \n",
      "_________________________________________________________________\n",
      "max_pooling2d_7 (MaxPooling2 (None, 36, 36, 64)        0         \n",
      "_________________________________________________________________\n",
      "conv2d_9 (Conv2D)            (None, 34, 34, 128)       73856     \n",
      "_________________________________________________________________\n",
      "max_pooling2d_8 (MaxPooling2 (None, 17, 17, 128)       0         \n",
      "_________________________________________________________________\n",
      "conv2d_10 (Conv2D)           (None, 15, 15, 128)       147584    \n",
      "_________________________________________________________________\n",
      "max_pooling2d_9 (MaxPooling2 (None, 7, 7, 128)         0         \n",
      "_________________________________________________________________\n",
      "flatten_2 (Flatten)          (None, 6272)              0         \n",
      "_________________________________________________________________\n",
      "dense_3 (Dense)              (None, 512)               3211776   \n",
      "_________________________________________________________________\n",
      "dense_4 (Dense)              (None, 1)                 513       \n",
      "=================================================================\n",
      "Total params: 3,453,121\n",
      "Trainable params: 3,453,121\n",
      "Non-trainable params: 0\n",
      "_________________________________________________________________\n"
     ]
    }
   ],
   "source": [
    "model.summary()"
   ]
  },
  {
   "cell_type": "code",
   "execution_count": 19,
   "metadata": {},
   "outputs": [
    {
     "name": "stdout",
     "output_type": "stream",
     "text": [
      "Epoch 1/30\n",
      "WARNING:tensorflow:From /usr/local/lib/python3.7/site-packages/keras/backend/tensorflow_backend.py:158: The name tf.get_default_session is deprecated. Please use tf.compat.v1.get_default_session instead.\n",
      "\n",
      "WARNING:tensorflow:From /usr/local/lib/python3.7/site-packages/keras/backend/tensorflow_backend.py:163: The name tf.ConfigProto is deprecated. Please use tf.compat.v1.ConfigProto instead.\n",
      "\n",
      "WARNING:tensorflow:From /usr/local/lib/python3.7/site-packages/keras/backend/tensorflow_backend.py:172: The name tf.global_variables is deprecated. Please use tf.compat.v1.global_variables instead.\n",
      "\n",
      "WARNING:tensorflow:From /usr/local/lib/python3.7/site-packages/keras/backend/tensorflow_backend.py:180: The name tf.is_variable_initialized is deprecated. Please use tf.compat.v1.is_variable_initialized instead.\n",
      "\n",
      "WARNING:tensorflow:From /usr/local/lib/python3.7/site-packages/keras/backend/tensorflow_backend.py:187: The name tf.variables_initializer is deprecated. Please use tf.compat.v1.variables_initializer instead.\n",
      "\n",
      "100/100 [==============================] - 34s 340ms/step - loss: 0.6894 - acc: 0.5355 - val_loss: 0.6713 - val_acc: 0.5890\n",
      "Epoch 2/30\n",
      "100/100 [==============================] - 34s 338ms/step - loss: 0.6497 - acc: 0.6330 - val_loss: 0.6382 - val_acc: 0.6370\n",
      "Epoch 3/30\n",
      "100/100 [==============================] - 35s 347ms/step - loss: 0.6080 - acc: 0.6730 - val_loss: 0.6387 - val_acc: 0.6220\n",
      "Epoch 4/30\n",
      "100/100 [==============================] - 34s 338ms/step - loss: 0.5778 - acc: 0.6895 - val_loss: 0.5898 - val_acc: 0.6850\n",
      "Epoch 5/30\n",
      "100/100 [==============================] - 33s 331ms/step - loss: 0.5464 - acc: 0.7255 - val_loss: 0.5788 - val_acc: 0.7000\n",
      "Epoch 6/30\n",
      "100/100 [==============================] - 34s 340ms/step - loss: 0.5281 - acc: 0.7370 - val_loss: 0.5802 - val_acc: 0.6850\n",
      "Epoch 7/30\n",
      "100/100 [==============================] - 33s 326ms/step - loss: 0.4899 - acc: 0.7660 - val_loss: 0.5664 - val_acc: 0.6890\n",
      "Epoch 8/30\n",
      "100/100 [==============================] - 33s 331ms/step - loss: 0.4699 - acc: 0.7760 - val_loss: 0.5711 - val_acc: 0.7150\n",
      "Epoch 9/30\n",
      "100/100 [==============================] - 33s 333ms/step - loss: 0.4450 - acc: 0.7885 - val_loss: 0.5911 - val_acc: 0.6980\n",
      "Epoch 10/30\n",
      "100/100 [==============================] - 34s 338ms/step - loss: 0.4148 - acc: 0.8050 - val_loss: 0.5749 - val_acc: 0.7130\n",
      "Epoch 11/30\n",
      "100/100 [==============================] - 34s 340ms/step - loss: 0.3966 - acc: 0.8225 - val_loss: 0.5394 - val_acc: 0.7310\n",
      "Epoch 12/30\n",
      "100/100 [==============================] - 37s 374ms/step - loss: 0.3752 - acc: 0.8330 - val_loss: 0.6768 - val_acc: 0.6790\n",
      "Epoch 13/30\n",
      "100/100 [==============================] - 40s 405ms/step - loss: 0.3457 - acc: 0.8465 - val_loss: 0.5658 - val_acc: 0.7220\n",
      "Epoch 14/30\n",
      "100/100 [==============================] - 36s 359ms/step - loss: 0.3128 - acc: 0.8755 - val_loss: 0.5971 - val_acc: 0.7210\n",
      "Epoch 15/30\n",
      "100/100 [==============================] - 36s 359ms/step - loss: 0.3036 - acc: 0.8685 - val_loss: 0.5919 - val_acc: 0.7170\n",
      "Epoch 16/30\n",
      "100/100 [==============================] - 37s 366ms/step - loss: 0.2732 - acc: 0.8930 - val_loss: 0.6417 - val_acc: 0.7240\n",
      "Epoch 17/30\n",
      "100/100 [==============================] - 39s 388ms/step - loss: 0.2532 - acc: 0.9020 - val_loss: 0.6075 - val_acc: 0.7370\n",
      "Epoch 18/30\n",
      "100/100 [==============================] - 37s 372ms/step - loss: 0.2323 - acc: 0.9055 - val_loss: 0.7450 - val_acc: 0.6920\n",
      "Epoch 19/30\n",
      "100/100 [==============================] - 41s 407ms/step - loss: 0.2097 - acc: 0.9230 - val_loss: 0.6279 - val_acc: 0.7290\n",
      "Epoch 20/30\n",
      "100/100 [==============================] - 36s 357ms/step - loss: 0.1934 - acc: 0.9265 - val_loss: 0.7026 - val_acc: 0.7150\n",
      "Epoch 21/30\n",
      "100/100 [==============================] - 38s 380ms/step - loss: 0.1779 - acc: 0.9375 - val_loss: 0.6939 - val_acc: 0.7230\n",
      "Epoch 22/30\n",
      "100/100 [==============================] - 44s 436ms/step - loss: 0.1552 - acc: 0.9455 - val_loss: 0.7197 - val_acc: 0.7360\n",
      "Epoch 23/30\n",
      "100/100 [==============================] - 40s 404ms/step - loss: 0.1331 - acc: 0.9570 - val_loss: 0.8307 - val_acc: 0.7150\n",
      "Epoch 24/30\n",
      "100/100 [==============================] - 38s 381ms/step - loss: 0.1195 - acc: 0.9605 - val_loss: 0.7911 - val_acc: 0.7220\n",
      "Epoch 25/30\n",
      "100/100 [==============================] - 38s 380ms/step - loss: 0.1098 - acc: 0.9625 - val_loss: 0.9118 - val_acc: 0.6940\n",
      "Epoch 26/30\n",
      "100/100 [==============================] - 40s 397ms/step - loss: 0.0882 - acc: 0.9775 - val_loss: 0.9146 - val_acc: 0.7170\n",
      "Epoch 27/30\n",
      "100/100 [==============================] - 37s 367ms/step - loss: 0.0782 - acc: 0.9785 - val_loss: 0.8452 - val_acc: 0.7310\n",
      "Epoch 28/30\n",
      "100/100 [==============================] - 40s 398ms/step - loss: 0.0667 - acc: 0.9785 - val_loss: 0.9001 - val_acc: 0.7310\n",
      "Epoch 29/30\n",
      "100/100 [==============================] - 45s 448ms/step - loss: 0.0555 - acc: 0.9865 - val_loss: 1.0222 - val_acc: 0.7170\n",
      "Epoch 30/30\n",
      "100/100 [==============================] - 40s 402ms/step - loss: 0.0496 - acc: 0.9880 - val_loss: 0.9919 - val_acc: 0.7330\n"
     ]
    }
   ],
   "source": [
    "history = model.fit_generator(\n",
    "train_generator,\n",
    "steps_per_epoch=100,\n",
    "epochs=30,\n",
    "validation_data=validation_generator,\n",
    "validation_steps=50)"
   ]
  },
  {
   "cell_type": "markdown",
   "metadata": {},
   "source": [
    "**记得保存模型哦**"
   ]
  },
  {
   "cell_type": "code",
   "execution_count": 20,
   "metadata": {},
   "outputs": [],
   "source": [
    "model.save('cats_and_dogs_small_1.h5')"
   ]
  },
  {
   "cell_type": "code",
   "execution_count": 21,
   "metadata": {},
   "outputs": [
    {
     "data": {
      "image/png": "[encoded data removed]",
      "text/plain": [
       "<Figure size 432x288 with 1 Axes>"
      ]
     },
     "metadata": {
      "needs_background": "light"
     },
     "output_type": "display_data"
    },
    {
     "data": {
      "image/png": "[encoded data removed]",
      "text/plain": [
       "<Figure size 432x288 with 1 Axes>"
      ]
     },
     "metadata": {
      "needs_background": "light"
     },
     "output_type": "display_data"
    }
   ],
   "source": [
    "import matplotlib.pyplot as plt\n",
    "\n",
    "acc = history.history['acc']\n",
    "val_acc = history.history['val_acc']\n",
    "loss = history.history['loss']\n",
    "val_loss = history.history['val_loss']\n",
    "\n",
    "epochs = range(1, len(acc) + 1)\n",
    "\n",
    "plt.plot(epochs, acc, 'bo', label='Training Acc')\n",
    "plt.plot(epochs, val_acc, 'b', label='Validation Acc')\n",
    "plt.title('Training and Validation Accuracy')\n",
    "plt.legend()\n",
    "\n",
    "plt.figure()\n",
    "\n",
    "plt.plot(epochs, loss, 'bo', label='Training loss')\n",
    "plt.plot(epochs, val_loss, 'b', label='Validation loss')\n",
    "plt.title('Training and Validation Accuracy')\n",
    "plt.legend()\n",
    "\n",
    "plt.show()"
   ]
  },
  {
   "cell_type": "markdown",
   "metadata": {},
   "source": [
    "可以看出，在5轮开始就已经到达稳定，超过10就开始过拟合。"
   ]
  }
 ],
 "metadata": {
  "kernelspec": {
   "display_name": "Python 3",
   "language": "python",
   "name": "python3"
  },
  "language_info": {
   "codemirror_mode": {
    "name": "ipython",
    "version": 3
   },
   "file_extension": ".py",
   "mimetype": "text/x-python",
   "name": "python",
   "nbconvert_exporter": "python",
   "pygments_lexer": "ipython3",
   "version": "3.7.7"
  }
 },
 "nbformat": 4,
 "nbformat_minor": 2
}
