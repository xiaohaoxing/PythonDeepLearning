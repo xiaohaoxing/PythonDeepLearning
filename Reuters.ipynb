{
 "cells": [
  {
   "cell_type": "markdown",
   "metadata": {},
   "source": [
    "## 导入路透社的数据集"
   ]
  },
  {
   "cell_type": "code",
   "execution_count": 1,
   "metadata": {},
   "outputs": [
    {
     "name": "stderr",
     "output_type": "stream",
     "text": [
      "Using TensorFlow backend.\n"
     ]
    }
   ],
   "source": [
    "from keras.datasets import reuters\n",
    "(train_data,train_labels), (test_data, test_labels) = reuters.load_data(num_words=10000)"
   ]
  },
  {
   "cell_type": "markdown",
   "metadata": {},
   "source": [
    "加载数据的时候就限定了单词的索引不超过10000，返回的数据就仅包含这10000个单词的了。"
   ]
  },
  {
   "cell_type": "code",
   "execution_count": 2,
   "metadata": {},
   "outputs": [
    {
     "data": {
      "text/plain": [
       "8982"
      ]
     },
     "execution_count": 2,
     "metadata": {},
     "output_type": "execute_result"
    }
   ],
   "source": [
    "len(train_data)"
   ]
  },
  {
   "cell_type": "markdown",
   "metadata": {},
   "source": [
    "如何解码单词："
   ]
  },
  {
   "cell_type": "code",
   "execution_count": 3,
   "metadata": {},
   "outputs": [
    {
     "data": {
      "text/plain": [
       "'? ? ? said as a result of its december acquisition of space co it expects earnings per share in 1987 of 1 15 to 1 30 dlrs per share up from 70 cts in 1986 the company said pretax net should rise to nine to 10 mln dlrs from six mln dlrs in 1986 and rental operation revenues to 19 to 22 mln dlrs from 12 5 mln dlrs it said cash flow per share this year should be 2 50 to three dlrs reuter 3'"
      ]
     },
     "execution_count": 3,
     "metadata": {},
     "output_type": "execute_result"
    }
   ],
   "source": [
    "word_index = reuters.get_word_index()\n",
    "reverse_word_index = dict([(value, key) for (key, value) in word_index.items()])\n",
    "decode_newswire = ' '.join([reverse_word_index.get(i-3, '?') for i in train_data[0]])\n",
    "decode_newswire"
   ]
  },
  {
   "cell_type": "markdown",
   "metadata": {},
   "source": [
    "## 1. 数据向量化"
   ]
  },
  {
   "cell_type": "code",
   "execution_count": 4,
   "metadata": {},
   "outputs": [],
   "source": [
    "import numpy as np\n",
    "\n",
    "# 向量化数据\n",
    "def vectorize_sequences(sequences, dimension=10000):\n",
    "    results = np.zeros((len(sequences), dimension))\n",
    "    for i, sequence in enumerate(sequences):\n",
    "        results[i, sequence] = 1\n",
    "    return results\n",
    "\n",
    "x_train = vectorize_sequences(train_data)\n",
    "x_test = vectorize_sequences(test_data)\n",
    "\n",
    "# 向量化标签\n",
    "def to_one_hot(labels, dimension=46):\n",
    "    results = np.zeros((len(labels), dimension))\n",
    "    for i, label in enumerate(labels):\n",
    "        results[i, label] = 1\n",
    "    return results\n",
    "\n",
    "one_hot_train_labels = to_one_hot(train_labels)\n",
    "one_hot_test_labels = to_one_hot(test_labels)"
   ]
  },
  {
   "cell_type": "markdown",
   "metadata": {},
   "source": [
    "由于要分类的最终数据有46个分类，因此中间Dense层16维则太小，修改为64维。"
   ]
  },
  {
   "cell_type": "code",
   "execution_count": 5,
   "metadata": {},
   "outputs": [
    {
     "name": "stdout",
     "output_type": "stream",
     "text": [
      "WARNING:tensorflow:From /usr/local/lib/python3.7/site-packages/keras/backend/tensorflow_backend.py:63: The name tf.get_default_graph is deprecated. Please use tf.compat.v1.get_default_graph instead.\n",
      "\n",
      "WARNING:tensorflow:From /usr/local/lib/python3.7/site-packages/keras/backend/tensorflow_backend.py:488: The name tf.placeholder is deprecated. Please use tf.compat.v1.placeholder instead.\n",
      "\n",
      "WARNING:tensorflow:From /usr/local/lib/python3.7/site-packages/keras/backend/tensorflow_backend.py:3626: The name tf.random_uniform is deprecated. Please use tf.random.uniform instead.\n",
      "\n"
     ]
    }
   ],
   "source": [
    "from keras import layers\n",
    "from keras import models\n",
    "\n",
    "model = models.Sequential()\n",
    "model.add(layers.Dense(64, activation='relu', input_shape=(10000,)))\n",
    "model.add(layers.Dense(64, activation='relu'))\n",
    "model.add(layers.Dense(46, activation='softmax'))"
   ]
  },
  {
   "cell_type": "markdown",
   "metadata": {},
   "source": [
    "softmax：输出各个位置上的概率的激活函数，所有概率之和 = 1"
   ]
  },
  {
   "cell_type": "code",
   "execution_count": 6,
   "metadata": {},
   "outputs": [
    {
     "name": "stdout",
     "output_type": "stream",
     "text": [
      "WARNING:tensorflow:From /usr/local/lib/python3.7/site-packages/keras/optimizers.py:711: The name tf.train.Optimizer is deprecated. Please use tf.compat.v1.train.Optimizer instead.\n",
      "\n",
      "WARNING:tensorflow:From /usr/local/lib/python3.7/site-packages/keras/backend/tensorflow_backend.py:2857: calling reduce_sum_v1 (from tensorflow.python.ops.math_ops) with keep_dims is deprecated and will be removed in a future version.\n",
      "Instructions for updating:\n",
      "keep_dims is deprecated, use keepdims instead\n",
      "WARNING:tensorflow:From /usr/local/lib/python3.7/site-packages/keras/backend/tensorflow_backend.py:2861: The name tf.log is deprecated. Please use tf.math.log instead.\n",
      "\n"
     ]
    }
   ],
   "source": [
    "model.compile(optimizer='rmsprop',\n",
    "             loss='categorical_crossentropy',\n",
    "             metrics=['accuracy'])"
   ]
  },
  {
   "cell_type": "markdown",
   "metadata": {},
   "source": [
    "编译了模型，categorical_crossentropy用于评估2个概率之间的差值。"
   ]
  },
  {
   "cell_type": "code",
   "execution_count": 7,
   "metadata": {},
   "outputs": [],
   "source": [
    "x_val = x_train[:1000]\n",
    "partial_x_train = x_train[1000:]\n",
    "\n",
    "y_val = one_hot_train_labels[:1000]\n",
    "partial_y_train = one_hot_train_labels[1000:]"
   ]
  },
  {
   "cell_type": "code",
   "execution_count": 8,
   "metadata": {},
   "outputs": [
    {
     "name": "stdout",
     "output_type": "stream",
     "text": [
      "WARNING:tensorflow:From /usr/local/lib/python3.7/site-packages/tensorflow_core/python/ops/math_grad.py:1424: where (from tensorflow.python.ops.array_ops) is deprecated and will be removed in a future version.\n",
      "Instructions for updating:\n",
      "Use tf.where in 2.0, which has the same broadcast rule as np.where\n",
      "WARNING:tensorflow:From /usr/local/lib/python3.7/site-packages/keras/backend/tensorflow_backend.py:671: calling Constant.__init__ (from tensorflow.python.ops.init_ops) with dtype is deprecated and will be removed in a future version.\n",
      "Instructions for updating:\n",
      "Call initializer instance with the dtype argument instead of passing it to the constructor\n",
      "WARNING:tensorflow:From /usr/local/lib/python3.7/site-packages/keras/backend/tensorflow_backend.py:949: The name tf.assign_add is deprecated. Please use tf.compat.v1.assign_add instead.\n",
      "\n",
      "WARNING:tensorflow:From /usr/local/lib/python3.7/site-packages/keras/backend/tensorflow_backend.py:936: The name tf.assign is deprecated. Please use tf.compat.v1.assign instead.\n",
      "\n",
      "WARNING:tensorflow:From /usr/local/lib/python3.7/site-packages/keras/backend/tensorflow_backend.py:2353: The name tf.Session is deprecated. Please use tf.compat.v1.Session instead.\n",
      "\n",
      "Train on 7982 samples, validate on 1000 samples\n",
      "Epoch 1/20\n",
      "WARNING:tensorflow:From /usr/local/lib/python3.7/site-packages/keras/backend/tensorflow_backend.py:158: The name tf.get_default_session is deprecated. Please use tf.compat.v1.get_default_session instead.\n",
      "\n",
      "WARNING:tensorflow:From /usr/local/lib/python3.7/site-packages/keras/backend/tensorflow_backend.py:163: The name tf.ConfigProto is deprecated. Please use tf.compat.v1.ConfigProto instead.\n",
      "\n",
      "WARNING:tensorflow:From /usr/local/lib/python3.7/site-packages/keras/backend/tensorflow_backend.py:172: The name tf.global_variables is deprecated. Please use tf.compat.v1.global_variables instead.\n",
      "\n",
      "WARNING:tensorflow:From /usr/local/lib/python3.7/site-packages/keras/backend/tensorflow_backend.py:180: The name tf.is_variable_initialized is deprecated. Please use tf.compat.v1.is_variable_initialized instead.\n",
      "\n",
      "WARNING:tensorflow:From /usr/local/lib/python3.7/site-packages/keras/backend/tensorflow_backend.py:187: The name tf.variables_initializer is deprecated. Please use tf.compat.v1.variables_initializer instead.\n",
      "\n",
      "7982/7982 [==============================] - 1s 157us/step - loss: 2.5306 - acc: 0.4962 - val_loss: 1.7180 - val_acc: 0.6120\n",
      "Epoch 2/20\n",
      "7982/7982 [==============================] - 1s 112us/step - loss: 1.4430 - acc: 0.6878 - val_loss: 1.3435 - val_acc: 0.7060\n",
      "Epoch 3/20\n",
      "7982/7982 [==============================] - 1s 110us/step - loss: 1.0929 - acc: 0.7661 - val_loss: 1.1704 - val_acc: 0.7430\n",
      "Epoch 4/20\n",
      "7982/7982 [==============================] - 1s 113us/step - loss: 0.8682 - acc: 0.8166 - val_loss: 1.0788 - val_acc: 0.7600\n",
      "Epoch 5/20\n",
      "7982/7982 [==============================] - 1s 113us/step - loss: 0.7020 - acc: 0.8483 - val_loss: 0.9844 - val_acc: 0.7830\n",
      "Epoch 6/20\n",
      "7982/7982 [==============================] - 1s 109us/step - loss: 0.5666 - acc: 0.8796 - val_loss: 0.9401 - val_acc: 0.8030\n",
      "Epoch 7/20\n",
      "7982/7982 [==============================] - 1s 112us/step - loss: 0.4592 - acc: 0.9039 - val_loss: 0.9090 - val_acc: 0.8010\n",
      "Epoch 8/20\n",
      "7982/7982 [==============================] - 1s 110us/step - loss: 0.3704 - acc: 0.9226 - val_loss: 0.9359 - val_acc: 0.7890\n",
      "Epoch 9/20\n",
      "7982/7982 [==============================] - 1s 110us/step - loss: 0.3036 - acc: 0.9308 - val_loss: 0.8912 - val_acc: 0.8070\n",
      "Epoch 10/20\n",
      "7982/7982 [==============================] - 1s 110us/step - loss: 0.2539 - acc: 0.9412 - val_loss: 0.9059 - val_acc: 0.8110\n",
      "Epoch 11/20\n",
      "7982/7982 [==============================] - 1s 109us/step - loss: 0.2185 - acc: 0.9471 - val_loss: 0.9152 - val_acc: 0.8120\n",
      "Epoch 12/20\n",
      "7982/7982 [==============================] - 1s 110us/step - loss: 0.1872 - acc: 0.9511 - val_loss: 0.9045 - val_acc: 0.8150\n",
      "Epoch 13/20\n",
      "7982/7982 [==============================] - 1s 111us/step - loss: 0.1696 - acc: 0.9523 - val_loss: 0.9338 - val_acc: 0.8090\n",
      "Epoch 14/20\n",
      "7982/7982 [==============================] - 1s 111us/step - loss: 0.1531 - acc: 0.9554 - val_loss: 0.9644 - val_acc: 0.8090\n",
      "Epoch 15/20\n",
      "7982/7982 [==============================] - 1s 131us/step - loss: 0.1387 - acc: 0.9555 - val_loss: 0.9697 - val_acc: 0.8120\n",
      "Epoch 16/20\n",
      "7982/7982 [==============================] - 1s 124us/step - loss: 0.1310 - acc: 0.9562 - val_loss: 1.0280 - val_acc: 0.8040\n",
      "Epoch 17/20\n",
      "7982/7982 [==============================] - 1s 130us/step - loss: 0.1214 - acc: 0.9577 - val_loss: 1.0307 - val_acc: 0.7950\n",
      "Epoch 18/20\n",
      "7982/7982 [==============================] - 1s 127us/step - loss: 0.1193 - acc: 0.9582 - val_loss: 1.0454 - val_acc: 0.8080\n",
      "Epoch 19/20\n",
      "7982/7982 [==============================] - 1s 122us/step - loss: 0.1136 - acc: 0.9595 - val_loss: 1.1013 - val_acc: 0.7950\n",
      "Epoch 20/20\n",
      "7982/7982 [==============================] - 1s 124us/step - loss: 0.1104 - acc: 0.9595 - val_loss: 1.0710 - val_acc: 0.8020\n"
     ]
    }
   ],
   "source": [
    "history = model.fit(partial_x_train, \n",
    "                   partial_y_train,\n",
    "                   epochs=20,\n",
    "                   batch_size=512,\n",
    "                   validation_data=(x_val, y_val))"
   ]
  },
  {
   "cell_type": "code",
   "execution_count": 9,
   "metadata": {},
   "outputs": [
    {
     "data": {
      "image/png": "[encoded data removed]",
      "text/plain": [
       "<Figure size 432x288 with 1 Axes>"
      ]
     },
     "metadata": {
      "needs_background": "light"
     },
     "output_type": "display_data"
    }
   ],
   "source": [
    "import matplotlib.pyplot as plt\n",
    "\n",
    "loss = history.history['loss']\n",
    "val_loss = history.history['val_loss']\n",
    "\n",
    "epochs = range(1, len(loss ) + 1)\n",
    "\n",
    "plt.plot(epochs, loss, 'bo', label='Training loss')\n",
    "plt.plot(epochs, val_loss, 'b', label=\"Validation loss\")\n",
    "plt.title('Training and Validation loss')\n",
    "plt.xlabel('Epochs')\n",
    "plt.ylabel('Loss')\n",
    "plt.legend()\n",
    "\n",
    "plt.show()"
   ]
  },
  {
   "cell_type": "code",
   "execution_count": 10,
   "metadata": {},
   "outputs": [
    {
     "data": {
      "image/png": "[encoded data removed]",
      "text/plain": [
       "<Figure size 432x288 with 1 Axes>"
      ]
     },
     "metadata": {
      "needs_background": "light"
     },
     "output_type": "display_data"
    }
   ],
   "source": [
    "acc = history.history['acc']\n",
    "val_acc = history.history['val_acc']\n",
    "\n",
    "epochs = range(1, len(acc) + 1)\n",
    "\n",
    "plt.plot(epochs, acc, 'bo', label='Training Accuracy')\n",
    "plt.plot(epochs, val_acc, 'b', label=\"Validation Accuracy\")\n",
    "plt.title('Training and Validation accuracy')\n",
    "plt.xlabel('Epochs')\n",
    "plt.ylabel('Accuracy')\n",
    "plt.legend()\n",
    "\n",
    "plt.show()"
   ]
  },
  {
   "cell_type": "markdown",
   "metadata": {},
   "source": [
    "从图中可以看出，从第九轮过后开始过拟合了。重新一次9轮的训练："
   ]
  },
  {
   "cell_type": "code",
   "execution_count": 11,
   "metadata": {},
   "outputs": [
    {
     "name": "stdout",
     "output_type": "stream",
     "text": [
      "Train on 7982 samples, validate on 1000 samples\n",
      "Epoch 1/9\n",
      "7982/7982 [==============================] - 1s 119us/step - loss: 0.1054 - acc: 0.9573 - val_loss: 1.1089 - val_acc: 0.7990\n",
      "Epoch 2/9\n",
      "7982/7982 [==============================] - 1s 113us/step - loss: 0.1016 - acc: 0.9582 - val_loss: 1.1145 - val_acc: 0.8050\n",
      "Epoch 3/9\n",
      "7982/7982 [==============================] - 1s 139us/step - loss: 0.1020 - acc: 0.9585 - val_loss: 1.1015 - val_acc: 0.7950\n",
      "Epoch 4/9\n",
      "7982/7982 [==============================] - 1s 124us/step - loss: 0.1025 - acc: 0.9574 - val_loss: 1.1306 - val_acc: 0.7940\n",
      "Epoch 5/9\n",
      "7982/7982 [==============================] - 1s 115us/step - loss: 0.0967 - acc: 0.9594 - val_loss: 1.1579 - val_acc: 0.8010\n",
      "Epoch 6/9\n",
      "7982/7982 [==============================] - 1s 124us/step - loss: 0.0985 - acc: 0.9565 - val_loss: 1.2322 - val_acc: 0.7880\n",
      "Epoch 7/9\n",
      "7982/7982 [==============================] - 1s 129us/step - loss: 0.0959 - acc: 0.9573 - val_loss: 1.1845 - val_acc: 0.7950\n",
      "Epoch 8/9\n",
      "7982/7982 [==============================] - 1s 123us/step - loss: 0.0918 - acc: 0.9587 - val_loss: 1.2412 - val_acc: 0.7820\n",
      "Epoch 9/9\n",
      "7982/7982 [==============================] - 1s 121us/step - loss: 0.0942 - acc: 0.9579 - val_loss: 1.1899 - val_acc: 0.7940\n",
      "2246/2246 [==============================] - 0s 118us/step\n"
     ]
    }
   ],
   "source": [
    "history = model.fit(partial_x_train, \n",
    "                   partial_y_train,\n",
    "                   epochs=9,\n",
    "                   batch_size=512,\n",
    "                   validation_data=(x_val, y_val))\n",
    "results = model.evaluate(x_test, one_hot_test_labels)"
   ]
  },
  {
   "cell_type": "code",
   "execution_count": 12,
   "metadata": {},
   "outputs": [
    {
     "data": {
      "text/plain": [
       "[1.361384087551521, 0.7827248442204849]"
      ]
     },
     "execution_count": 12,
     "metadata": {},
     "output_type": "execute_result"
    }
   ],
   "source": [
    "results"
   ]
  },
  {
   "cell_type": "markdown",
   "metadata": {},
   "source": [
    "9轮的训练结果，在测试集上得到了76%的精确度，总体上尚可。"
   ]
  },
  {
   "cell_type": "markdown",
   "metadata": {},
   "source": [
    "* Bones：完全随机的分类算法代码："
   ]
  },
  {
   "cell_type": "code",
   "execution_count": 13,
   "metadata": {},
   "outputs": [
    {
     "data": {
      "text/plain": [
       "0.182546749777382"
      ]
     },
     "execution_count": 13,
     "metadata": {},
     "output_type": "execute_result"
    }
   ],
   "source": [
    "import copy\n",
    "test_labels_copy=copy.copy(test_labels)\n",
    "np.random.shuffle(test_labels_copy)\n",
    "hits_array = np.array(test_labels) == np.array(test_labels_copy)\n",
    "float(np.sum(hits_array)) / len(test_labels)"
   ]
  },
  {
   "cell_type": "markdown",
   "metadata": {},
   "source": [
    "完全随机的算法得到的正确率大概是18%。"
   ]
  },
  {
   "cell_type": "markdown",
   "metadata": {},
   "source": [
    "## 尝试更大或更小的隐藏层"
   ]
  },
  {
   "cell_type": "markdown",
   "metadata": {},
   "source": [
    "1. 使用 32 个单位的隐藏层："
   ]
  },
  {
   "cell_type": "code",
   "execution_count": 15,
   "metadata": {},
   "outputs": [
    {
     "name": "stdout",
     "output_type": "stream",
     "text": [
      "Train on 7982 samples, validate on 1000 samples\n",
      "Epoch 1/20\n",
      "7982/7982 [==============================] - 1s 140us/step - loss: 2.7861 - acc: 0.5209 - val_loss: 2.0205 - val_acc: 0.5890\n",
      "Epoch 2/20\n",
      "7982/7982 [==============================] - 1s 104us/step - loss: 1.7024 - acc: 0.6580 - val_loss: 1.5509 - val_acc: 0.6710\n",
      "Epoch 3/20\n",
      "7982/7982 [==============================] - 1s 105us/step - loss: 1.3286 - acc: 0.7140 - val_loss: 1.3403 - val_acc: 0.7020\n",
      "Epoch 4/20\n",
      "7982/7982 [==============================] - 1s 103us/step - loss: 1.1053 - acc: 0.7544 - val_loss: 1.2142 - val_acc: 0.7290\n",
      "Epoch 5/20\n",
      "7982/7982 [==============================] - 1s 110us/step - loss: 0.9437 - acc: 0.7915 - val_loss: 1.1570 - val_acc: 0.7350\n",
      "Epoch 6/20\n",
      "7982/7982 [==============================] - 1s 111us/step - loss: 0.8138 - acc: 0.8177 - val_loss: 1.0716 - val_acc: 0.7590\n",
      "Epoch 7/20\n",
      "7982/7982 [==============================] - 1s 106us/step - loss: 0.7029 - acc: 0.8380 - val_loss: 1.0189 - val_acc: 0.7680\n",
      "Epoch 8/20\n",
      "7982/7982 [==============================] - 1s 102us/step - loss: 0.6057 - acc: 0.8647 - val_loss: 1.0149 - val_acc: 0.7670\n",
      "Epoch 9/20\n",
      "7982/7982 [==============================] - 1s 101us/step - loss: 0.5228 - acc: 0.8866 - val_loss: 0.9639 - val_acc: 0.7850\n",
      "Epoch 10/20\n",
      "7982/7982 [==============================] - 1s 107us/step - loss: 0.4528 - acc: 0.9029 - val_loss: 0.9495 - val_acc: 0.8040\n",
      "Epoch 11/20\n",
      "7982/7982 [==============================] - 1s 102us/step - loss: 0.3900 - acc: 0.9174 - val_loss: 0.9447 - val_acc: 0.7990\n",
      "Epoch 12/20\n",
      "7982/7982 [==============================] - 1s 106us/step - loss: 0.3411 - acc: 0.9270 - val_loss: 0.9335 - val_acc: 0.8060\n",
      "Epoch 13/20\n",
      "7982/7982 [==============================] - 1s 111us/step - loss: 0.2962 - acc: 0.9354 - val_loss: 0.9355 - val_acc: 0.8100\n",
      "Epoch 14/20\n",
      "7982/7982 [==============================] - 1s 110us/step - loss: 0.2631 - acc: 0.9404 - val_loss: 0.9844 - val_acc: 0.8010\n",
      "Epoch 15/20\n",
      "7982/7982 [==============================] - 1s 104us/step - loss: 0.2325 - acc: 0.9450 - val_loss: 0.9547 - val_acc: 0.8010\n",
      "Epoch 16/20\n",
      "7982/7982 [==============================] - 1s 102us/step - loss: 0.2081 - acc: 0.9483 - val_loss: 0.9489 - val_acc: 0.8120\n",
      "Epoch 17/20\n",
      "7982/7982 [==============================] - 1s 102us/step - loss: 0.1890 - acc: 0.9498 - val_loss: 0.9618 - val_acc: 0.8180\n",
      "Epoch 18/20\n",
      "7982/7982 [==============================] - 1s 102us/step - loss: 0.1727 - acc: 0.9526 - val_loss: 0.9682 - val_acc: 0.8190\n",
      "Epoch 19/20\n",
      "7982/7982 [==============================] - 1s 105us/step - loss: 0.1595 - acc: 0.9543 - val_loss: 0.9803 - val_acc: 0.8060\n",
      "Epoch 20/20\n",
      "7982/7982 [==============================] - 1s 103us/step - loss: 0.1487 - acc: 0.9555 - val_loss: 0.9965 - val_acc: 0.8090\n"
     ]
    },
    {
     "data": {
      "image/png": "[encoded data removed]",
      "text/plain": [
       "<Figure size 432x288 with 1 Axes>"
      ]
     },
     "metadata": {
      "needs_background": "light"
     },
     "output_type": "display_data"
    },
    {
     "data": {
      "image/png": "[encoded data removed]",
      "text/plain": [
       "<Figure size 432x288 with 1 Axes>"
      ]
     },
     "metadata": {
      "needs_background": "light"
     },
     "output_type": "display_data"
    }
   ],
   "source": [
    "model = models.Sequential()\n",
    "model.add(layers.Dense(32, activation='relu', input_shape=(10000,)))\n",
    "model.add(layers.Dense(32, activation='relu'))\n",
    "model.add(layers.Dense(46, activation='softmax'))\n",
    "model.compile(optimizer='rmsprop',\n",
    "             loss='categorical_crossentropy',\n",
    "             metrics=['accuracy'])\n",
    "x_val = x_train[:1000]\n",
    "partial_x_train = x_train[1000:]\n",
    "\n",
    "y_val = one_hot_train_labels[:1000]\n",
    "partial_y_train = one_hot_train_labels[1000:]\n",
    "history = model.fit(partial_x_train, \n",
    "                   partial_y_train,\n",
    "                   epochs=20,\n",
    "                   batch_size=512,\n",
    "                   validation_data=(x_val, y_val))\n",
    "loss = history.history['loss']\n",
    "val_loss = history.history['val_loss']\n",
    "\n",
    "epochs = range(1, len(loss ) + 1)\n",
    "\n",
    "plt.plot(epochs, loss, 'bo', label='Training loss')\n",
    "plt.plot(epochs, val_loss, 'b', label=\"Validation loss\")\n",
    "plt.title('Training and Validation loss')\n",
    "plt.xlabel('Epochs')\n",
    "plt.ylabel('Loss')\n",
    "plt.legend()\n",
    "\n",
    "plt.show()\n",
    "\n",
    "plt.clf()\n",
    "acc = history.history['acc']\n",
    "val_acc = history.history['val_acc']\n",
    "\n",
    "epochs = range(1, len(acc) + 1)\n",
    "\n",
    "plt.plot(epochs, acc, 'bo', label='Training Accuracy')\n",
    "plt.plot(epochs, val_acc, 'b', label=\"Validation Accuracy\")\n",
    "plt.title('Training and Validation accuracy')\n",
    "plt.xlabel('Epochs')\n",
    "plt.ylabel('Accuracy')\n",
    "plt.legend()\n",
    "\n",
    "plt.show()"
   ]
  },
  {
   "cell_type": "markdown",
   "metadata": {},
   "source": [
    "   训练集准确度95%，但验证集准确度下降到了80%。"
   ]
  },
  {
   "cell_type": "markdown",
   "metadata": {},
   "source": [
    "2. 使用128个单位的隐藏层："
   ]
  },
  {
   "cell_type": "code",
   "execution_count": 16,
   "metadata": {},
   "outputs": [
    {
     "name": "stdout",
     "output_type": "stream",
     "text": [
      "Train on 7982 samples, validate on 1000 samples\n",
      "Epoch 1/20\n",
      "7982/7982 [==============================] - 1s 167us/step - loss: 2.1884 - acc: 0.5611 - val_loss: 1.3841 - val_acc: 0.6940\n",
      "Epoch 2/20\n",
      "7982/7982 [==============================] - 1s 133us/step - loss: 1.1231 - acc: 0.7498 - val_loss: 1.1268 - val_acc: 0.7460\n",
      "Epoch 3/20\n",
      "7982/7982 [==============================] - 1s 142us/step - loss: 0.7945 - acc: 0.8277 - val_loss: 0.9590 - val_acc: 0.7900\n",
      "Epoch 4/20\n",
      "7982/7982 [==============================] - 1s 155us/step - loss: 0.5602 - acc: 0.8804 - val_loss: 0.9380 - val_acc: 0.7870\n",
      "Epoch 5/20\n",
      "7982/7982 [==============================] - 1s 138us/step - loss: 0.4184 - acc: 0.9138 - val_loss: 0.9062 - val_acc: 0.8020\n",
      "Epoch 6/20\n",
      "7982/7982 [==============================] - 1s 150us/step - loss: 0.3113 - acc: 0.9349 - val_loss: 0.8518 - val_acc: 0.8290\n",
      "Epoch 7/20\n",
      "7982/7982 [==============================] - 1s 135us/step - loss: 0.2451 - acc: 0.9426 - val_loss: 0.8646 - val_acc: 0.8270\n",
      "Epoch 8/20\n",
      "7982/7982 [==============================] - 1s 113us/step - loss: 0.2015 - acc: 0.9496 - val_loss: 0.9327 - val_acc: 0.8000\n",
      "Epoch 9/20\n",
      "7982/7982 [==============================] - 1s 134us/step - loss: 0.1713 - acc: 0.9520 - val_loss: 0.9962 - val_acc: 0.8050\n",
      "Epoch 10/20\n",
      "7982/7982 [==============================] - 1s 137us/step - loss: 0.1628 - acc: 0.9519 - val_loss: 1.0041 - val_acc: 0.7970\n",
      "Epoch 11/20\n",
      "7982/7982 [==============================] - 1s 136us/step - loss: 0.1419 - acc: 0.9559 - val_loss: 0.9447 - val_acc: 0.8150\n",
      "Epoch 12/20\n",
      "7982/7982 [==============================] - 1s 144us/step - loss: 0.1332 - acc: 0.9550 - val_loss: 0.9474 - val_acc: 0.8190\n",
      "Epoch 13/20\n",
      "7982/7982 [==============================] - 1s 129us/step - loss: 0.1304 - acc: 0.9560 - val_loss: 0.9639 - val_acc: 0.8080\n",
      "Epoch 14/20\n",
      "7982/7982 [==============================] - 1s 130us/step - loss: 0.1256 - acc: 0.9554 - val_loss: 1.0058 - val_acc: 0.8150\n",
      "Epoch 15/20\n",
      "7982/7982 [==============================] - 1s 143us/step - loss: 0.1162 - acc: 0.9572 - val_loss: 1.0527 - val_acc: 0.8040\n",
      "Epoch 16/20\n",
      "7982/7982 [==============================] - 1s 150us/step - loss: 0.1119 - acc: 0.9580 - val_loss: 1.0660 - val_acc: 0.8060\n",
      "Epoch 17/20\n",
      "7982/7982 [==============================] - 1s 147us/step - loss: 0.1133 - acc: 0.9562 - val_loss: 1.1197 - val_acc: 0.8070\n",
      "Epoch 18/20\n",
      "7982/7982 [==============================] - 1s 144us/step - loss: 0.1089 - acc: 0.9579 - val_loss: 1.0494 - val_acc: 0.8030\n",
      "Epoch 19/20\n",
      "7982/7982 [==============================] - 1s 139us/step - loss: 0.1125 - acc: 0.9559 - val_loss: 1.0926 - val_acc: 0.8040\n",
      "Epoch 20/20\n",
      "7982/7982 [==============================] - 1s 112us/step - loss: 0.1015 - acc: 0.9579 - val_loss: 1.0432 - val_acc: 0.8090\n"
     ]
    },
    {
     "data": {
      "image/png": "[encoded data removed]",
      "text/plain": [
       "<Figure size 432x288 with 1 Axes>"
      ]
     },
     "metadata": {
      "needs_background": "light"
     },
     "output_type": "display_data"
    },
    {
     "data": {
      "image/png": "[encoded data removed]",
      "text/plain": [
       "<Figure size 432x288 with 1 Axes>"
      ]
     },
     "metadata": {
      "needs_background": "light"
     },
     "output_type": "display_data"
    }
   ],
   "source": [
    "model = models.Sequential()\n",
    "model.add(layers.Dense(128, activation='relu', input_shape=(10000,)))\n",
    "model.add(layers.Dense(128, activation='relu'))\n",
    "model.add(layers.Dense(46, activation='softmax'))\n",
    "model.compile(optimizer='rmsprop',\n",
    "             loss='categorical_crossentropy',\n",
    "             metrics=['accuracy'])\n",
    "x_val = x_train[:1000]\n",
    "partial_x_train = x_train[1000:]\n",
    "\n",
    "y_val = one_hot_train_labels[:1000]\n",
    "partial_y_train = one_hot_train_labels[1000:]\n",
    "history = model.fit(partial_x_train, \n",
    "                   partial_y_train,\n",
    "                   epochs=20,\n",
    "                   batch_size=512,\n",
    "                   validation_data=(x_val, y_val))\n",
    "loss = history.history['loss']\n",
    "val_loss = history.history['val_loss']\n",
    "\n",
    "epochs = range(1, len(loss ) + 1)\n",
    "\n",
    "plt.plot(epochs, loss, 'bo', label='Training loss')\n",
    "plt.plot(epochs, val_loss, 'b', label=\"Validation loss\")\n",
    "plt.title('Training and Validation loss')\n",
    "plt.xlabel('Epochs')\n",
    "plt.ylabel('Loss')\n",
    "plt.legend()\n",
    "\n",
    "plt.show()\n",
    "\n",
    "plt.clf()\n",
    "acc = history.history['acc']\n",
    "val_acc = history.history['val_acc']\n",
    "\n",
    "epochs = range(1, len(acc) + 1)\n",
    "\n",
    "plt.plot(epochs, acc, 'bo', label='Training Accuracy')\n",
    "plt.plot(epochs, val_acc, 'b', label=\"Validation Accuracy\")\n",
    "plt.title('Training and Validation accuracy')\n",
    "plt.xlabel('Epochs')\n",
    "plt.ylabel('Accuracy')\n",
    "plt.legend()\n",
    "\n",
    "plt.show()"
   ]
  },
  {
   "cell_type": "markdown",
   "metadata": {},
   "source": [
    "    训练集准确度仍然95%+，验证集准确度仍然80%。"
   ]
  },
  {
   "cell_type": "markdown",
   "metadata": {},
   "source": [
    "3. 使用1个隐藏层："
   ]
  },
  {
   "cell_type": "code",
   "execution_count": 17,
   "metadata": {},
   "outputs": [
    {
     "name": "stdout",
     "output_type": "stream",
     "text": [
      "Train on 7982 samples, validate on 1000 samples\n",
      "Epoch 1/20\n",
      "7982/7982 [==============================] - 1s 161us/step - loss: 2.5030 - acc: 0.5456 - val_loss: 1.7734 - val_acc: 0.6480\n",
      "Epoch 2/20\n",
      "7982/7982 [==============================] - 1s 110us/step - loss: 1.4394 - acc: 0.7161 - val_loss: 1.3166 - val_acc: 0.7280\n",
      "Epoch 3/20\n",
      "7982/7982 [==============================] - 1s 117us/step - loss: 1.0482 - acc: 0.7914 - val_loss: 1.1185 - val_acc: 0.7670\n",
      "Epoch 4/20\n",
      "7982/7982 [==============================] - 1s 118us/step - loss: 0.8199 - acc: 0.8341 - val_loss: 1.0074 - val_acc: 0.7910\n",
      "Epoch 5/20\n",
      "7982/7982 [==============================] - 1s 108us/step - loss: 0.6599 - acc: 0.8666 - val_loss: 0.9346 - val_acc: 0.8100\n",
      "Epoch 6/20\n",
      "7982/7982 [==============================] - 1s 112us/step - loss: 0.5388 - acc: 0.8923 - val_loss: 0.8868 - val_acc: 0.8260\n",
      "Epoch 7/20\n",
      "7982/7982 [==============================] - 1s 118us/step - loss: 0.4445 - acc: 0.9100 - val_loss: 0.8645 - val_acc: 0.8210\n",
      "Epoch 8/20\n",
      "7982/7982 [==============================] - 1s 123us/step - loss: 0.3697 - acc: 0.9236 - val_loss: 0.8377 - val_acc: 0.8250\n",
      "Epoch 9/20\n",
      "7982/7982 [==============================] - 1s 114us/step - loss: 0.3108 - acc: 0.9342 - val_loss: 0.8278 - val_acc: 0.8260\n",
      "Epoch 10/20\n",
      "7982/7982 [==============================] - 1s 115us/step - loss: 0.2656 - acc: 0.9432 - val_loss: 0.8232 - val_acc: 0.8350\n",
      "Epoch 11/20\n",
      "7982/7982 [==============================] - 1s 115us/step - loss: 0.2288 - acc: 0.9465 - val_loss: 0.8322 - val_acc: 0.8230\n",
      "Epoch 12/20\n",
      "7982/7982 [==============================] - 1s 123us/step - loss: 0.1995 - acc: 0.9498 - val_loss: 0.8320 - val_acc: 0.8250\n",
      "Epoch 13/20\n",
      "7982/7982 [==============================] - 1s 127us/step - loss: 0.1782 - acc: 0.9524 - val_loss: 0.8457 - val_acc: 0.8300\n",
      "Epoch 14/20\n",
      "7982/7982 [==============================] - 1s 115us/step - loss: 0.1599 - acc: 0.9543 - val_loss: 0.8484 - val_acc: 0.8300\n",
      "Epoch 15/20\n",
      "7982/7982 [==============================] - 1s 121us/step - loss: 0.1490 - acc: 0.9543 - val_loss: 0.8440 - val_acc: 0.8310\n",
      "Epoch 16/20\n",
      "7982/7982 [==============================] - 1s 121us/step - loss: 0.1359 - acc: 0.9564 - val_loss: 0.8629 - val_acc: 0.8240\n",
      "Epoch 17/20\n",
      "7982/7982 [==============================] - 1s 109us/step - loss: 0.1290 - acc: 0.9557 - val_loss: 0.8762 - val_acc: 0.8230\n",
      "Epoch 18/20\n",
      "7982/7982 [==============================] - 1s 117us/step - loss: 0.1196 - acc: 0.9563 - val_loss: 0.9033 - val_acc: 0.8160\n",
      "Epoch 19/20\n",
      "7982/7982 [==============================] - 1s 128us/step - loss: 0.1133 - acc: 0.9572 - val_loss: 0.9098 - val_acc: 0.8210\n",
      "Epoch 20/20\n",
      "7982/7982 [==============================] - 1s 125us/step - loss: 0.1090 - acc: 0.9569 - val_loss: 0.9349 - val_acc: 0.8170\n"
     ]
    },
    {
     "data": {
      "image/png": "[encoded data removed]",
      "text/plain": [
       "<Figure size 432x288 with 1 Axes>"
      ]
     },
     "metadata": {
      "needs_background": "light"
     },
     "output_type": "display_data"
    },
    {
     "data": {
      "image/png": "[encoded data removed]",
      "text/plain": [
       "<Figure size 432x288 with 1 Axes>"
      ]
     },
     "metadata": {
      "needs_background": "light"
     },
     "output_type": "display_data"
    }
   ],
   "source": [
    "model = models.Sequential()\n",
    "model.add(layers.Dense(64, activation='relu', input_shape=(10000,)))\n",
    "model.add(layers.Dense(46, activation='softmax'))\n",
    "model.compile(optimizer='rmsprop',\n",
    "             loss='categorical_crossentropy',\n",
    "             metrics=['accuracy'])\n",
    "x_val = x_train[:1000]\n",
    "partial_x_train = x_train[1000:]\n",
    "\n",
    "y_val = one_hot_train_labels[:1000]\n",
    "partial_y_train = one_hot_train_labels[1000:]\n",
    "history = model.fit(partial_x_train, \n",
    "                   partial_y_train,\n",
    "                   epochs=20,\n",
    "                   batch_size=512,\n",
    "                   validation_data=(x_val, y_val))\n",
    "loss = history.history['loss']\n",
    "val_loss = history.history['val_loss']\n",
    "\n",
    "epochs = range(1, len(loss ) + 1)\n",
    "\n",
    "plt.plot(epochs, loss, 'bo', label='Training loss')\n",
    "plt.plot(epochs, val_loss, 'b', label=\"Validation loss\")\n",
    "plt.title('Training and Validation loss')\n",
    "plt.xlabel('Epochs')\n",
    "plt.ylabel('Loss')\n",
    "plt.legend()\n",
    "\n",
    "plt.show()\n",
    "\n",
    "plt.clf()\n",
    "acc = history.history['acc']\n",
    "val_acc = history.history['val_acc']\n",
    "\n",
    "epochs = range(1, len(acc) + 1)\n",
    "\n",
    "plt.plot(epochs, acc, 'bo', label='Training Accuracy')\n",
    "plt.plot(epochs, val_acc, 'b', label=\"Validation Accuracy\")\n",
    "plt.title('Training and Validation accuracy')\n",
    "plt.xlabel('Epochs')\n",
    "plt.ylabel('Accuracy')\n",
    "plt.legend()\n",
    "\n",
    "plt.show()"
   ]
  },
  {
   "cell_type": "markdown",
   "metadata": {},
   "source": [
    "    训练集准确度：95%+，验证集准确度：80%+。"
   ]
  },
  {
   "cell_type": "markdown",
   "metadata": {},
   "source": [
    "4. 使用3个隐藏层："
   ]
  },
  {
   "cell_type": "code",
   "execution_count": 18,
   "metadata": {},
   "outputs": [
    {
     "name": "stdout",
     "output_type": "stream",
     "text": [
      "Train on 7982 samples, validate on 1000 samples\n",
      "Epoch 1/20\n",
      "7982/7982 [==============================] - 1s 171us/step - loss: 2.7221 - acc: 0.5220 - val_loss: 1.6893 - val_acc: 0.6460\n",
      "Epoch 2/20\n",
      "7982/7982 [==============================] - 1s 108us/step - loss: 1.3873 - acc: 0.7030 - val_loss: 1.3108 - val_acc: 0.7050\n",
      "Epoch 3/20\n",
      "7982/7982 [==============================] - 1s 89us/step - loss: 1.0577 - acc: 0.7571 - val_loss: 1.1790 - val_acc: 0.7220\n",
      "Epoch 4/20\n",
      "7982/7982 [==============================] - 1s 109us/step - loss: 0.8314 - acc: 0.8107 - val_loss: 1.0538 - val_acc: 0.7760\n",
      "Epoch 5/20\n",
      "7982/7982 [==============================] - 1s 109us/step - loss: 0.6689 - acc: 0.8540 - val_loss: 1.0624 - val_acc: 0.7720\n",
      "Epoch 6/20\n",
      "7982/7982 [==============================] - 1s 110us/step - loss: 0.5235 - acc: 0.8862 - val_loss: 1.0632 - val_acc: 0.7650\n",
      "Epoch 7/20\n",
      "7982/7982 [==============================] - 1s 112us/step - loss: 0.4176 - acc: 0.9114 - val_loss: 0.9703 - val_acc: 0.8010\n",
      "Epoch 8/20\n",
      "7982/7982 [==============================] - 1s 82us/step - loss: 0.3462 - acc: 0.9238 - val_loss: 0.9712 - val_acc: 0.8150\n",
      "Epoch 9/20\n",
      "7982/7982 [==============================] - 1s 83us/step - loss: 0.2840 - acc: 0.9372 - val_loss: 1.0080 - val_acc: 0.8030\n",
      "Epoch 10/20\n",
      "7982/7982 [==============================] - 1s 111us/step - loss: 0.2416 - acc: 0.9454 - val_loss: 1.1166 - val_acc: 0.7870\n",
      "Epoch 11/20\n",
      "7982/7982 [==============================] - 1s 110us/step - loss: 0.2054 - acc: 0.9493 - val_loss: 1.1505 - val_acc: 0.7770\n",
      "Epoch 12/20\n",
      "7982/7982 [==============================] - 1s 110us/step - loss: 0.1851 - acc: 0.9525 - val_loss: 1.1224 - val_acc: 0.7910\n",
      "Epoch 13/20\n",
      "7982/7982 [==============================] - 1s 85us/step - loss: 0.1695 - acc: 0.9533 - val_loss: 1.1659 - val_acc: 0.7920\n",
      "Epoch 14/20\n",
      "7982/7982 [==============================] - 1s 83us/step - loss: 0.1565 - acc: 0.9578 - val_loss: 1.0756 - val_acc: 0.7990\n",
      "Epoch 15/20\n",
      "7982/7982 [==============================] - 1s 113us/step - loss: 0.1491 - acc: 0.9568 - val_loss: 1.1166 - val_acc: 0.8090\n",
      "Epoch 16/20\n",
      "7982/7982 [==============================] - 1s 90us/step - loss: 0.1440 - acc: 0.9562 - val_loss: 1.1403 - val_acc: 0.8030\n",
      "Epoch 17/20\n",
      "7982/7982 [==============================] - 1s 82us/step - loss: 0.1331 - acc: 0.9580 - val_loss: 1.2374 - val_acc: 0.7830\n",
      "Epoch 18/20\n",
      "7982/7982 [==============================] - 1s 81us/step - loss: 0.1305 - acc: 0.9559 - val_loss: 1.2676 - val_acc: 0.7820\n",
      "Epoch 19/20\n",
      "7982/7982 [==============================] - 1s 82us/step - loss: 0.1238 - acc: 0.9584 - val_loss: 1.1876 - val_acc: 0.7920\n",
      "Epoch 20/20\n",
      "7982/7982 [==============================] - 1s 90us/step - loss: 0.1226 - acc: 0.9570 - val_loss: 1.2225 - val_acc: 0.7890\n"
     ]
    },
    {
     "data": {
      "image/png": "[encoded data removed]",
      "text/plain": [
       "<Figure size 432x288 with 1 Axes>"
      ]
     },
     "metadata": {
      "needs_background": "light"
     },
     "output_type": "display_data"
    },
    {
     "data": {
      "image/png": "[encoded data removed]",
      "text/plain": [
       "<Figure size 432x288 with 1 Axes>"
      ]
     },
     "metadata": {
      "needs_background": "light"
     },
     "output_type": "display_data"
    }
   ],
   "source": [
    "model = models.Sequential()\n",
    "model.add(layers.Dense(64, activation='relu', input_shape=(10000,)))\n",
    "model.add(layers.Dense(64, activation='relu'))\n",
    "model.add(layers.Dense(64, activation='relu'))\n",
    "model.add(layers.Dense(46, activation='softmax'))\n",
    "model.compile(optimizer='rmsprop',\n",
    "             loss='categorical_crossentropy',\n",
    "             metrics=['accuracy'])\n",
    "x_val = x_train[:1000]\n",
    "partial_x_train = x_train[1000:]\n",
    "\n",
    "y_val = one_hot_train_labels[:1000]\n",
    "partial_y_train = one_hot_train_labels[1000:]\n",
    "history = model.fit(partial_x_train, \n",
    "                   partial_y_train,\n",
    "                   epochs=20,\n",
    "                   batch_size=512,\n",
    "                   validation_data=(x_val, y_val))\n",
    "loss = history.history['loss']\n",
    "val_loss = history.history['val_loss']\n",
    "\n",
    "epochs = range(1, len(loss ) + 1)\n",
    "\n",
    "plt.plot(epochs, loss, 'bo', label='Training loss')\n",
    "plt.plot(epochs, val_loss, 'b', label=\"Validation loss\")\n",
    "plt.title('Training and Validation loss')\n",
    "plt.xlabel('Epochs')\n",
    "plt.ylabel('Loss')\n",
    "plt.legend()\n",
    "\n",
    "plt.show()\n",
    "\n",
    "plt.clf()\n",
    "acc = history.history['acc']\n",
    "val_acc = history.history['val_acc']\n",
    "\n",
    "epochs = range(1, len(acc) + 1)\n",
    "\n",
    "plt.plot(epochs, acc, 'bo', label='Training Accuracy')\n",
    "plt.plot(epochs, val_acc, 'b', label=\"Validation Accuracy\")\n",
    "plt.title('Training and Validation accuracy')\n",
    "plt.xlabel('Epochs')\n",
    "plt.ylabel('Accuracy')\n",
    "plt.legend()\n",
    "\n",
    "plt.show()"
   ]
  },
  {
   "cell_type": "markdown",
   "metadata": {},
   "source": [
    "    3个隐藏层的时候，训练集仍然能达到95%准确度，但验证集的准确度反而下降了。"
   ]
  }
 ],
 "metadata": {
  "kernelspec": {
   "display_name": "Python 3",
   "language": "python",
   "name": "python3"
  },
  "language_info": {
   "codemirror_mode": {
    "name": "ipython",
    "version": 3
   },
   "file_extension": ".py",
   "mimetype": "text/x-python",
   "name": "python",
   "nbconvert_exporter": "python",
   "pygments_lexer": "ipython3",
   "version": "3.8.5"
  }
 },
 "nbformat": 4,
 "nbformat_minor": 2
}
